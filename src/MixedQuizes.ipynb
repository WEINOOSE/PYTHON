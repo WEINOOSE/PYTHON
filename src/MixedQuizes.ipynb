{
  "nbformat": 4,
  "nbformat_minor": 0,
  "metadata": {
    "colab": {
      "name": "MixedQuizes.ipynb",
      "provenance": [],
      "collapsed_sections": []
    },
    "kernelspec": {
      "name": "python3",
      "display_name": "Python 3"
    },
    "language_info": {
      "name": "python"
    }
  },
  "cells": [
    {
      "cell_type": "markdown",
      "source": [
        "### Create a Dictionary with the information you get from the user and print this information on the screen. "
      ],
      "metadata": {
        "id": "SAWMwU0tIEQD"
      }
    },
    {
      "cell_type": "code",
      "source": [
        "x = str(input(\"Insert your name here: \"))\n",
        "y = int(input(\"Insert your age here: \"))\n",
        "z = str(input(\"Insert your favourite colour here: \"))\n",
        "person = {}\n",
        "person[\"Name\"] = x\n",
        "person[\"Age\"] = y\n",
        "person[\"Favourite Colour\"] = z\n",
        "print(person)"
      ],
      "metadata": {
        "colab": {
          "base_uri": "https://localhost:8080/"
        },
        "id": "lO-VZQM5IGm3",
        "outputId": "b9d8ce65-22a5-46c8-d1ef-83379e1311f9"
      },
      "execution_count": 2,
      "outputs": [
        {
          "output_type": "stream",
          "name": "stdout",
          "text": [
            "Insert your name here: Yarkın\n",
            "Insert your age here: 19\n",
            "Insert your favourite colour here: Navy\n",
            "{'Name': 'Yarkın', 'Age': 19, 'Favourite Colour': 'Navy'}\n"
          ]
        }
      ]
    },
    {
      "cell_type": "markdown",
      "source": [
        "### Order the 3 numbers you get from the user in ascending order."
      ],
      "metadata": {
        "id": "VLbzain-IHWy"
      }
    },
    {
      "cell_type": "code",
      "source": [
        "liste = []\n",
        "n1, n2, n3 = input(\"Write the 3 numbers you want to be compared side by side with a space in between: \").split()\n",
        "n1, n2, n3 = int(n1), int(n2), int(n3)\n",
        "liste.extend([n1, n2, n3])\n",
        "x = max(liste)\n",
        "y = min(liste)\n",
        "liste.remove(max(liste))\n",
        "liste.remove(min(liste))\n",
        "print(f\"{x} > {liste[0]} > {y}\")"
      ],
      "metadata": {
        "colab": {
          "base_uri": "https://localhost:8080/"
        },
        "id": "h8e9a2ZXIJC6",
        "outputId": "4973f87f-40af-4e99-c267-e424f35ba5a4"
      },
      "execution_count": 3,
      "outputs": [
        {
          "output_type": "stream",
          "name": "stdout",
          "text": [
            "Write the 3 numbers you want to be compared side by side with a space in between: 10 11 91\n",
            "91 > 11 > 10\n"
          ]
        }
      ]
    },
    {
      "cell_type": "markdown",
      "source": [
        "### Print a welcome message with the information you received from the user."
      ],
      "metadata": {
        "id": "MDo4xpqrIKAG"
      }
    },
    {
      "cell_type": "code",
      "source": [
        "x = str(input(\"Insert your name here: \"))\n",
        "y = int(input(\"Insert your age here: \"))\n",
        "z = str(input(\"Insert your favourite colour here: \"))\n",
        "print(f\"My name is {x}. I'm {y} years old. My favourite color is {z}.\")"
      ],
      "metadata": {
        "colab": {
          "base_uri": "https://localhost:8080/"
        },
        "id": "zAwsuOmlIK-k",
        "outputId": "e945843f-dc7d-429d-abd8-c762773b7c42"
      },
      "execution_count": 4,
      "outputs": [
        {
          "output_type": "stream",
          "name": "stdout",
          "text": [
            "Insert your name here: Lewis\n",
            "Insert your age here: 37\n",
            "Insert your favourite colour here: Purple\n",
            "My name is Lewis. I'm 37 years old. My favourite color is Purple.\n"
          ]
        }
      ]
    },
    {
      "cell_type": "markdown",
      "source": [
        "### Let's take a list with duplicates and print the deleted version of the duplicates."
      ],
      "metadata": {
        "id": "QDkOxWuhIMoi"
      }
    },
    {
      "cell_type": "code",
      "source": [
        "liste = [0, 5, 5, 6, 6, 6, 7, 8, 45, 13, \"e\", \"w\", \"w\"]\n",
        "liste = set(liste)\n",
        "liste = list(liste)\n",
        "print(liste)"
      ],
      "metadata": {
        "colab": {
          "base_uri": "https://localhost:8080/"
        },
        "id": "A6st8pKoINcf",
        "outputId": "197b4c05-010d-4a83-d4b2-3c7a87966bcc"
      },
      "execution_count": 5,
      "outputs": [
        {
          "output_type": "stream",
          "name": "stdout",
          "text": [
            "[0, 5, 6, 7, 8, 45, 13, 'e', 'w']\n"
          ]
        }
      ]
    },
    {
      "cell_type": "markdown",
      "source": [
        "### Create a list with the data you receive from the user, delete the end of the list."
      ],
      "metadata": {
        "id": "swQZgmibIOpd"
      }
    },
    {
      "cell_type": "code",
      "source": [
        "liste = []\n",
        "x, y, z = input(\"Enter data side by side with spaces between them: \").split()\n",
        "x, y, z = str(x), str(y), str(z)\n",
        "liste.extend([x,y,z])\n",
        "print(f\"Orijinal liste: {liste}\")\n",
        "liste.pop(len(liste)-1)\n",
        "print(f\"Yeni liste: {liste}\")"
      ],
      "metadata": {
        "colab": {
          "base_uri": "https://localhost:8080/"
        },
        "id": "BBr9M8NUIPjt",
        "outputId": "f1a837f1-6239-4d09-9121-e4c22097d024"
      },
      "execution_count": 7,
      "outputs": [
        {
          "output_type": "stream",
          "name": "stdout",
          "text": [
            "Enter data side by side with spaces between them: 11 12 13\n",
            "Orijinal liste: ['11', '12', '13']\n",
            "Yeni liste: ['11', '12']\n"
          ]
        }
      ]
    },
    {
      "cell_type": "markdown",
      "source": [
        "### Convert the float data you received from the user to integer data and print it on the screen."
      ],
      "metadata": {
        "id": "RFH_piGdIQuH"
      }
    },
    {
      "cell_type": "code",
      "source": [
        "x = float(input(\"Enter a decimal number: \"))\n",
        "x = int(x)\n",
        "print(x)"
      ],
      "metadata": {
        "colab": {
          "base_uri": "https://localhost:8080/"
        },
        "id": "Ztrluf5iIRob",
        "outputId": "a1dcdec7-af5a-4c9d-c5f6-234724c4ce88"
      },
      "execution_count": 8,
      "outputs": [
        {
          "output_type": "stream",
          "name": "stdout",
          "text": [
            "Enter a decimal number: 3.3\n",
            "3\n"
          ]
        }
      ]
    },
    {
      "cell_type": "markdown",
      "source": [
        "### Print the sent word specified times the function shown on the screen."
      ],
      "metadata": {
        "id": "9kFIEEBRITbe"
      }
    },
    {
      "cell_type": "code",
      "source": [
        "x = int(input(\"Kelime kaç kere gösterilsin: \"))\n",
        "\n",
        "def func(word, count):\n",
        "    print(word*count)\n",
        "func(\"Python\\n\", x)"
      ],
      "metadata": {
        "colab": {
          "base_uri": "https://localhost:8080/"
        },
        "id": "lZdLTLSnIV8V",
        "outputId": "9fe17881-1500-44aa-9478-1f90f504af65"
      },
      "execution_count": 9,
      "outputs": [
        {
          "output_type": "stream",
          "name": "stdout",
          "text": [
            "Kelime kaç kere gösterilsin: 9\n",
            "Python\n",
            "Python\n",
            "Python\n",
            "Python\n",
            "Python\n",
            "Python\n",
            "Python\n",
            "Python\n",
            "Python\n",
            "\n"
          ]
        }
      ]
    },
    {
      "cell_type": "markdown",
      "source": [
        "### Convert the unlimited number of parameters sent to it into a list."
      ],
      "metadata": {
        "id": "N24rCiUpIqvu"
      }
    },
    {
      "cell_type": "code",
      "source": [
        "def func(*params):\n",
        "    liste = []\n",
        "    for i in params:\n",
        "        liste.append(i)\n",
        "    print(liste)\n",
        "func(1, 5, 12, \"Python\", True)"
      ],
      "metadata": {
        "colab": {
          "base_uri": "https://localhost:8080/"
        },
        "id": "DFOXfibSI6LU",
        "outputId": "2f42ffdf-6684-4f93-ac2b-8a083fa1907c"
      },
      "execution_count": 10,
      "outputs": [
        {
          "output_type": "stream",
          "name": "stdout",
          "text": [
            "[1, 5, 12, 'Python', True]\n"
          ]
        }
      ]
    },
    {
      "cell_type": "markdown",
      "source": [
        "### We will find the prime numbers between the 2 numbers sent."
      ],
      "metadata": {
        "id": "OaxQMnNbI7Qw"
      }
    },
    {
      "cell_type": "code",
      "source": [
        "def func(n1, n2):\n",
        "    for i in range(n1, n2):\n",
        "        if i > 1:\n",
        "            for j in range(2, i):\n",
        "                if (i%j==0):\n",
        "                    break\n",
        "            else:\n",
        "                print(i)\n",
        "func(0, 100)"
      ],
      "metadata": {
        "colab": {
          "base_uri": "https://localhost:8080/"
        },
        "id": "iOakgW_KI9Kd",
        "outputId": "971496d3-4999-4883-d778-602010c94c05"
      },
      "execution_count": 12,
      "outputs": [
        {
          "output_type": "stream",
          "name": "stdout",
          "text": [
            "2\n",
            "3\n",
            "5\n",
            "7\n",
            "11\n",
            "13\n",
            "17\n",
            "19\n",
            "23\n",
            "29\n",
            "31\n",
            "37\n",
            "41\n",
            "43\n",
            "47\n",
            "53\n",
            "59\n",
            "61\n",
            "67\n",
            "71\n",
            "73\n",
            "79\n",
            "83\n",
            "89\n",
            "97\n"
          ]
        }
      ]
    },
    {
      "cell_type": "markdown",
      "source": [
        "### Print the divisors of the number sent to him as a list on the screen."
      ],
      "metadata": {
        "id": "k3zwEtXmI-qX"
      }
    },
    {
      "cell_type": "code",
      "source": [
        "def func(num):\n",
        "    liste = []\n",
        "\n",
        "    for i in range(2, num):\n",
        "        if num%i==0:\n",
        "            liste.append(i)\n",
        "    return liste\n",
        "\n",
        "print(func(120))"
      ],
      "metadata": {
        "colab": {
          "base_uri": "https://localhost:8080/"
        },
        "id": "rG_DHqdMJAfP",
        "outputId": "b1b2f96a-7726-44b5-c357-e25c3fc46f89"
      },
      "execution_count": 13,
      "outputs": [
        {
          "output_type": "stream",
          "name": "stdout",
          "text": [
            "[2, 3, 4, 5, 6, 8, 10, 12, 15, 20, 24, 30, 40, 60]\n"
          ]
        }
      ]
    },
    {
      "cell_type": "markdown",
      "source": [
        "### Print a fitness message to an individual based on their body mass index."
      ],
      "metadata": {
        "id": "mDWUioz3JErZ"
      }
    },
    {
      "cell_type": "code",
      "source": [
        "height = float(input(\"Insert your height as meter: \"))\n",
        "weight = int(input(\"Insert your weight a kilogram: \"))\n",
        "bmi = (weight)/(height**2)\n",
        "\n",
        "if 19.5 > bmi > 0:\n",
        "    print(\"Zayıf. | BMI : {0}\".format(bmi))\n",
        "elif 25.5 > bmi >= 19.5:\n",
        "    print(\"Normal. | BMI : {0}\".format(bmi))\n",
        "elif 31.5 > bmi >= 25.5:\n",
        "    print(\"Fazla Kilolu. | BMI : {0}\".format(bmi))\n",
        "elif 100 >= bmi >= 31.5:\n",
        "    print(\"Obez. | BMI : {0}\".format(bmi))\n",
        "else:\n",
        "    print(\"Yanlış veri girdiniz. Tekrar deneyin\")"
      ],
      "metadata": {
        "colab": {
          "base_uri": "https://localhost:8080/"
        },
        "id": "81nPOnDqJF3z",
        "outputId": "b0b43879-6ee3-46a4-ff5d-b2904d5a2a8f"
      },
      "execution_count": 14,
      "outputs": [
        {
          "output_type": "stream",
          "name": "stdout",
          "text": [
            "Insert your height as meter: 1.74\n",
            "Insert your weight a kilogram: 77\n",
            "Normal. | BMI : 25.43268595587264\n"
          ]
        }
      ]
    },
    {
      "cell_type": "markdown",
      "source": [
        "### Print a driving license check statement, you need over 18 years old and 75+ from the exam."
      ],
      "metadata": {
        "id": "Vx7IHH9FJQqy"
      }
    },
    {
      "cell_type": "code",
      "source": [
        "age = int(input(\"Insert your age: \"))\n",
        "\n",
        "if age >= 18:\n",
        "    print(\"Sınava girebilirsiniz.\")\n",
        "    exam = int(input(\"Sınav puanınızı giriniz: \"))\n",
        "    if exam >= 75:\n",
        "        print(\"Ehliyet alabilirsiniz.\")\n",
        "    else:\n",
        "        print(\"Sınavda başarısız oldunuz. Tekrar deneyiniz.\")\n",
        "else:\n",
        "    print(\"Sınava girmeniz için 18 yaşında olmanız gerekmektedir.\")"
      ],
      "metadata": {
        "colab": {
          "base_uri": "https://localhost:8080/"
        },
        "id": "gKIFhKPOJQ4_",
        "outputId": "b595cf25-461a-462d-d2bd-4dbe523c8014"
      },
      "execution_count": 15,
      "outputs": [
        {
          "output_type": "stream",
          "name": "stdout",
          "text": [
            "Insert your age: 19\n",
            "Sınava girebilirsiniz.\n",
            "Sınav puanınızı giriniz: 84\n",
            "Ehliyet alabilirsiniz.\n"
          ]
        }
      ]
    },
    {
      "cell_type": "markdown",
      "source": [
        "### Find multiples of 3 from the numbers in the list."
      ],
      "metadata": {
        "id": "36r2i9vJJi9G"
      }
    },
    {
      "cell_type": "code",
      "source": [
        "liste = [0,1,2,3,4,5,6,7,8,9,10]\n",
        "\n",
        "for i in liste:\n",
        "    if (i%3==0) and (i != 0):\n",
        "        print(i)"
      ],
      "metadata": {
        "colab": {
          "base_uri": "https://localhost:8080/"
        },
        "id": "UPr3GvuUJlgO",
        "outputId": "ea906b3b-799d-4876-decd-bc8e78e62a48"
      },
      "execution_count": 18,
      "outputs": [
        {
          "output_type": "stream",
          "name": "stdout",
          "text": [
            "3\n",
            "6\n",
            "9\n"
          ]
        }
      ]
    },
    {
      "cell_type": "markdown",
      "source": [
        "### Find the sum of the numbers in the list by looping."
      ],
      "metadata": {
        "id": "rRKps_GgJnz5"
      }
    },
    {
      "cell_type": "code",
      "source": [
        "total = 0\n",
        "\n",
        "for i in liste:\n",
        "    total = total + i\n",
        "print(total)"
      ],
      "metadata": {
        "colab": {
          "base_uri": "https://localhost:8080/"
        },
        "id": "oWxPujo9JrII",
        "outputId": "1bc157c4-3f3e-4fc4-94ea-f4dcf95216cc"
      },
      "execution_count": 19,
      "outputs": [
        {
          "output_type": "stream",
          "name": "stdout",
          "text": [
            "55\n"
          ]
        }
      ]
    },
    {
      "cell_type": "markdown",
      "source": [
        "### Let's sort the numbers that we will receive from the user in a mixed way, from the largest to the smallest."
      ],
      "metadata": {
        "id": "2DDAWKE5JvMr"
      }
    },
    {
      "cell_type": "code",
      "source": [
        "liste = []\n",
        "\n",
        "for i in range(5):\n",
        "    i = int(input(\"Sayıyı gir: \"))\n",
        "    liste.append(i)\n",
        "\n",
        "liste.sort()\n",
        "liste.reverse()\n",
        "print(liste)"
      ],
      "metadata": {
        "colab": {
          "base_uri": "https://localhost:8080/"
        },
        "id": "bdj2c5rZJyft",
        "outputId": "9f41dd61-6b83-46fb-9565-aa349d2f5244"
      },
      "execution_count": 20,
      "outputs": [
        {
          "output_type": "stream",
          "name": "stdout",
          "text": [
            "Sayıyı gir: 24\n",
            "Sayıyı gir: 33\n",
            "Sayıyı gir: 42\n",
            "Sayıyı gir: 11\n",
            "Sayıyı gir: 99\n",
            "[99, 42, 33, 24, 11]\n"
          ]
        }
      ]
    }
  ]
}