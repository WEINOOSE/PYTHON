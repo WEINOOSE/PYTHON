{
  "nbformat": 4,
  "nbformat_minor": 0,
  "metadata": {
    "colab": {
      "name": "Pandas.ipynb",
      "provenance": [],
      "collapsed_sections": []
    },
    "kernelspec": {
      "name": "python3",
      "display_name": "Python 3"
    },
    "language_info": {
      "name": "python"
    }
  },
  "cells": [
    {
      "cell_type": "code",
      "execution_count": 1,
      "metadata": {
        "id": "CytWFKJmK0XX"
      },
      "outputs": [],
      "source": [
        "import pandas as pd\n",
        "import numpy as np"
      ]
    },
    {
      "cell_type": "markdown",
      "source": [
        "# Starting with Pandas Series"
      ],
      "metadata": {
        "id": "yGUhQNzrVltC"
      }
    },
    {
      "cell_type": "code",
      "source": [
        "# Data Setting 1.\n",
        "\n",
        "dictionary = {\"A\":1, \"B\":2, \"C\":3}\n",
        "sr = pd.Series(dictionary)\n",
        "print(f'{sr}\\n')\n",
        "\n",
        "# Data Setting 2.\n",
        "\n",
        "numbers = [1,2,3]\n",
        "letters = [\"A\", \"B\", \"C\"]\n",
        "sr = pd.Series(numbers, letters)\n",
        "print(f'{sr}\\n')\n",
        "\n",
        "# Data Settings 3.\n",
        "\n",
        "numbers = np.random.randint(0,10,3)\n",
        "letters = [\"A\",\"B\",\"C\"]\n",
        "sr = pd.Series(numbers, letters)\n",
        "print(f'{sr}\\n')\n",
        "\n",
        "# Setting the Series with Dictionaries.\n",
        "\n",
        "dictionary = {\"Name\":[\"Lewis\",\"Max\",\"Sebastian\",\"Fernando\",\"Charles\"],\n",
        "              \"Age\":[37,25,34,42,23],\n",
        "              \"Wage\": [50,50,15,25,15]}\n",
        "\n",
        "sr = pd.Series(dictionary)\n",
        "print(f'{sr}\\n')"
      ],
      "metadata": {
        "colab": {
          "base_uri": "https://localhost:8080/"
        },
        "id": "m3SxkBGhVoBD",
        "outputId": "48afe156-b1e7-48ae-b90b-c8886b5ccd6f"
      },
      "execution_count": 2,
      "outputs": [
        {
          "output_type": "stream",
          "name": "stdout",
          "text": [
            "A    1\n",
            "B    2\n",
            "C    3\n",
            "dtype: int64\n",
            "\n",
            "A    1\n",
            "B    2\n",
            "C    3\n",
            "dtype: int64\n",
            "\n",
            "A    3\n",
            "B    8\n",
            "C    5\n",
            "dtype: int64\n",
            "\n",
            "Name    [Lewis, Max, Sebastian, Fernando, Charles]\n",
            "Age                           [37, 25, 34, 42, 23]\n",
            "Wage                          [50, 50, 15, 25, 15]\n",
            "dtype: object\n",
            "\n"
          ]
        }
      ]
    },
    {
      "cell_type": "markdown",
      "source": [
        "# Indexing the Pandas Series"
      ],
      "metadata": {
        "id": "lo-upAzmWZEc"
      }
    },
    {
      "cell_type": "code",
      "source": [
        "# Column Methods.\n",
        "\n",
        "print(sr.ndim)\n",
        "print(sr.shape)\n",
        "print(sr.sum())\n",
        "\n",
        "# Column Indexing.\n",
        "\n",
        "print(sr[1])\n",
        "print(sr[-1])\n",
        "print(sr[::])"
      ],
      "metadata": {
        "colab": {
          "base_uri": "https://localhost:8080/"
        },
        "id": "S6iEt2SHWa4l",
        "outputId": "6e78855c-1377-4ae8-eab9-e47c6cded654"
      },
      "execution_count": 4,
      "outputs": [
        {
          "output_type": "stream",
          "name": "stdout",
          "text": [
            "1\n",
            "(3,)\n",
            "['Lewis', 'Max', 'Sebastian', 'Fernando', 'Charles', 37, 25, 34, 42, 23, 50, 50, 15, 25, 15]\n",
            "[37, 25, 34, 42, 23]\n",
            "[50, 50, 15, 25, 15]\n",
            "Name    [Lewis, Max, Sebastian, Fernando, Charles]\n",
            "Age                           [37, 25, 34, 42, 23]\n",
            "Wage                          [50, 50, 15, 25, 15]\n",
            "dtype: object\n"
          ]
        }
      ]
    },
    {
      "cell_type": "markdown",
      "source": [
        "# File Input for Pandas\n",
        "In pandas, read_{file_type} method is important for what kind of file we are importing."
      ],
      "metadata": {
        "id": "l4Y4gtf_X_dK"
      }
    },
    {
      "cell_type": "code",
      "source": [
        "file = pd.read_csv(\"goldenfoot.csv\")\n",
        "\n",
        "print(file)"
      ],
      "metadata": {
        "colab": {
          "base_uri": "https://localhost:8080/"
        },
        "id": "E2qowz8KYKC3",
        "outputId": "dd012b48-ae8f-4059-92f1-3c3ebac301a6"
      },
      "execution_count": 5,
      "outputs": [
        {
          "output_type": "stream",
          "name": "stdout",
          "text": [
            "   Year             Winner          Team  Goals\n",
            "0  2011  Cristiano Ronaldo   Real Madrid     40\n",
            "1  2012       Lionel Messi  FC Barcelona     50\n",
            "2  2013       Lionel Messi  FC Barcelona     46\n",
            "3  2014  Cristiano Ronaldo   Real Madrid     31\n",
            "4  2015  Cristiano Ronaldo   Real Madrid     48\n",
            "5  2016        Luis Suarez  FC Barcelona     40\n",
            "6  2017       Lionel Messi  FC Barcelona     37\n",
            "7  2018       Lionel Messi  FC Barcelona     34\n",
            "8  2019       Lionel Messi  FC Barcelona     36\n",
            "9  2020      Ciro Immobile    S.S. Lazio     36\n"
          ]
        }
      ]
    },
    {
      "cell_type": "markdown",
      "source": [
        "# Introduction to the Dataframes"
      ],
      "metadata": {
        "id": "JISoUCjFXq5A"
      }
    },
    {
      "cell_type": "code",
      "source": [
        "file = pd.read_csv(\"goldenfoot.csv\")\n",
        "df = pd.DataFrame(file)\n",
        "\n",
        "# Prints the whole data.\n",
        "print(df) \n",
        "\n",
        "# Prints the first x rows.\n",
        "print(df.head(15))\n",
        "\n",
        "# Prints the last x rows.\n",
        "print(df.tail(15))\n",
        "\n",
        "# Prints the whole columns as a list.\n",
        "print(list(df.columns))\n",
        "\n",
        "# Prints the whole row title's as a list.\n",
        "print(list(df.index))\n",
        "\n",
        "# Prints the whole values as a list and which values ordered in a spesific COLUMN given by a parameter. \n",
        "print(list(df[\"Winner\"]))\n",
        "\n",
        "# Prints the row and colun count of dataframe.\n",
        "print(df.shape)\n",
        "\n",
        "# Just prints the spesific column given by a parameter.\n",
        "print(df[\"Winner\"])\n",
        "\n",
        "# Makes the spesific column's values into a numpy array.\n",
        "print(df[\"Winner\"].unique())"
      ],
      "metadata": {
        "colab": {
          "base_uri": "https://localhost:8080/"
        },
        "id": "hty0wiWOXsrf",
        "outputId": "dd786e66-4a95-4f2d-d6dd-0bec10ea57e4"
      },
      "execution_count": 6,
      "outputs": [
        {
          "output_type": "stream",
          "name": "stdout",
          "text": [
            "   Year             Winner          Team  Goals\n",
            "0  2011  Cristiano Ronaldo   Real Madrid     40\n",
            "1  2012       Lionel Messi  FC Barcelona     50\n",
            "2  2013       Lionel Messi  FC Barcelona     46\n",
            "3  2014  Cristiano Ronaldo   Real Madrid     31\n",
            "4  2015  Cristiano Ronaldo   Real Madrid     48\n",
            "5  2016        Luis Suarez  FC Barcelona     40\n",
            "6  2017       Lionel Messi  FC Barcelona     37\n",
            "7  2018       Lionel Messi  FC Barcelona     34\n",
            "8  2019       Lionel Messi  FC Barcelona     36\n",
            "9  2020      Ciro Immobile    S.S. Lazio     36\n",
            "   Year             Winner          Team  Goals\n",
            "0  2011  Cristiano Ronaldo   Real Madrid     40\n",
            "1  2012       Lionel Messi  FC Barcelona     50\n",
            "2  2013       Lionel Messi  FC Barcelona     46\n",
            "3  2014  Cristiano Ronaldo   Real Madrid     31\n",
            "4  2015  Cristiano Ronaldo   Real Madrid     48\n",
            "5  2016        Luis Suarez  FC Barcelona     40\n",
            "6  2017       Lionel Messi  FC Barcelona     37\n",
            "7  2018       Lionel Messi  FC Barcelona     34\n",
            "8  2019       Lionel Messi  FC Barcelona     36\n",
            "9  2020      Ciro Immobile    S.S. Lazio     36\n",
            "   Year             Winner          Team  Goals\n",
            "0  2011  Cristiano Ronaldo   Real Madrid     40\n",
            "1  2012       Lionel Messi  FC Barcelona     50\n",
            "2  2013       Lionel Messi  FC Barcelona     46\n",
            "3  2014  Cristiano Ronaldo   Real Madrid     31\n",
            "4  2015  Cristiano Ronaldo   Real Madrid     48\n",
            "5  2016        Luis Suarez  FC Barcelona     40\n",
            "6  2017       Lionel Messi  FC Barcelona     37\n",
            "7  2018       Lionel Messi  FC Barcelona     34\n",
            "8  2019       Lionel Messi  FC Barcelona     36\n",
            "9  2020      Ciro Immobile    S.S. Lazio     36\n",
            "['Year', 'Winner', 'Team', 'Goals']\n",
            "[0, 1, 2, 3, 4, 5, 6, 7, 8, 9]\n",
            "['Cristiano Ronaldo', 'Lionel Messi', 'Lionel Messi', 'Cristiano Ronaldo', 'Cristiano Ronaldo', 'Luis Suarez', 'Lionel Messi', 'Lionel Messi', 'Lionel Messi', 'Ciro Immobile']\n",
            "(10, 4)\n",
            "0    Cristiano Ronaldo\n",
            "1         Lionel Messi\n",
            "2         Lionel Messi\n",
            "3    Cristiano Ronaldo\n",
            "4    Cristiano Ronaldo\n",
            "5          Luis Suarez\n",
            "6         Lionel Messi\n",
            "7         Lionel Messi\n",
            "8         Lionel Messi\n",
            "9        Ciro Immobile\n",
            "Name: Winner, dtype: object\n",
            "['Cristiano Ronaldo' 'Lionel Messi' 'Luis Suarez' 'Ciro Immobile']\n"
          ]
        }
      ]
    },
    {
      "cell_type": "markdown",
      "source": [
        "# Mergin, Concatting the Pandas Dataframes"
      ],
      "metadata": {
        "id": "PY1rIEn9YaeZ"
      }
    },
    {
      "cell_type": "code",
      "source": [
        "file1 = pd.read_csv(\"merge1.csv\")\n",
        "file2 = pd.read_csv(\"merge2.csv\")\n",
        "file3 = pd.read_csv(\"merge3.csv\")\n",
        "\n",
        "df1 = pd.DataFrame(file1)\n",
        "df2 = pd.DataFrame(file2)\n",
        "df3 = pd.DataFrame(file3)\n",
        "\n",
        "# DataFrame Append Method for Common Columns.\n",
        "result = pd.merge(df1, df3, how=\"outer\")\n",
        "print(result)\n",
        "\n",
        "# DataFrame Column Append Method.\n",
        "result = pd.concat([df1,df2], axis = 1)\n",
        "print(result)\n",
        "\n",
        "# DataFrame Column Append Method with Outer Append for Missing Features. \n",
        "result = pd.concat([df1,df2])\n",
        "print(result)"
      ],
      "metadata": {
        "colab": {
          "base_uri": "https://localhost:8080/"
        },
        "id": "egiulEYwYaus",
        "outputId": "6d0326c0-28a2-4e0f-9343-a5d3ec453d13"
      },
      "execution_count": 7,
      "outputs": [
        {
          "output_type": "stream",
          "name": "stdout",
          "text": [
            "                          Title  Price  Stock\n",
            "0           MSI Nvidia RTX 3090  98000     11\n",
            "1                   Samsung S21  15000     24\n",
            "2             Apple AirPods Pro   2050     86\n",
            "3              JBL Live 650BTNC   1300     42\n",
            "4  Razer Basilisk V2 Hypershift    500     96\n",
            "5                MSI Vigor GK30    370     57\n",
            "                 Title  Price  Stock  UserRate  DiscountRate\n",
            "0  MSI Nvidia RTX 3090  98000     11        99             0\n",
            "1          Samsung S21  15000     24        84            12\n",
            "2    Apple AirPods Pro   2050     86        92            18\n",
            "                 Title    Price  Stock  UserRate  DiscountRate\n",
            "0  MSI Nvidia RTX 3090  98000.0   11.0       NaN           NaN\n",
            "1          Samsung S21  15000.0   24.0       NaN           NaN\n",
            "2    Apple AirPods Pro   2050.0   86.0       NaN           NaN\n",
            "0                  NaN      NaN    NaN      99.0           0.0\n",
            "1                  NaN      NaN    NaN      84.0          12.0\n",
            "2                  NaN      NaN    NaN      92.0          18.0\n"
          ]
        }
      ]
    },
    {
      "cell_type": "markdown",
      "source": [
        "# Classifying the Features Using 'groupby()' Method\n",
        "Creating a new dataset which rows are not spesific column's values given as a parameter."
      ],
      "metadata": {
        "id": "Vop-AYdnYoHh"
      }
    },
    {
      "cell_type": "code",
      "source": [
        "df = pd.DataFrame(pd.read_csv(\"goldenfoot.csv\"))\n",
        "data = df.groupby(\"Year\")\n",
        "print(data.min())"
      ],
      "metadata": {
        "colab": {
          "base_uri": "https://localhost:8080/"
        },
        "id": "bcSLDOkVYslZ",
        "outputId": "f0a734f2-8fe0-429f-b7d8-564db996f090"
      },
      "execution_count": 8,
      "outputs": [
        {
          "output_type": "stream",
          "name": "stdout",
          "text": [
            "                 Winner          Team  Goals\n",
            "Year                                        \n",
            "2011  Cristiano Ronaldo   Real Madrid     40\n",
            "2012       Lionel Messi  FC Barcelona     50\n",
            "2013       Lionel Messi  FC Barcelona     46\n",
            "2014  Cristiano Ronaldo   Real Madrid     31\n",
            "2015  Cristiano Ronaldo   Real Madrid     48\n",
            "2016        Luis Suarez  FC Barcelona     40\n",
            "2017       Lionel Messi  FC Barcelona     37\n",
            "2018       Lionel Messi  FC Barcelona     34\n",
            "2019       Lionel Messi  FC Barcelona     36\n",
            "2020      Ciro Immobile    S.S. Lazio     36\n"
          ]
        }
      ]
    },
    {
      "cell_type": "markdown",
      "source": [
        "# Filtering the Features Using 'loc' and 'iloc'"
      ],
      "metadata": {
        "id": "jiWDz0wAY29r"
      }
    },
    {
      "cell_type": "code",
      "source": [
        "file = pd.read_csv(\"goldenfoot.csv\")\n",
        "df = pd.DataFrame(file)\n",
        "\n",
        "# LOC takes STRING\n",
        "# ILOC takes INTEGER\n",
        "\n",
        "# Print's the whole information about spesific index given as a parameter with string type.\n",
        "print(df.iloc[1])\n",
        "\n",
        "# Print's the informations about spesific indexes given as a paramater with df type.\n",
        "print(df.iloc[0:2])\n",
        "\n",
        "# Making a groupby operation to the DataFrame using 'loc' effectively.\n",
        "df = df.groupby(\"Year\").min()\n",
        "\n",
        "# Print's the whole information about spesific index given as a parameter with df type.\n",
        "print(df.loc[2011])\n",
        "\n",
        "# Print's the informations about spesific indexes given as a paramater with df type.\n",
        "print(df.loc[2011:2013])"
      ],
      "metadata": {
        "colab": {
          "base_uri": "https://localhost:8080/"
        },
        "id": "dVbsWx-dZKxB",
        "outputId": "8d90200e-0035-4f7e-9256-c076cc3110c7"
      },
      "execution_count": 9,
      "outputs": [
        {
          "output_type": "stream",
          "name": "stdout",
          "text": [
            "Year              2012\n",
            "Winner    Lionel Messi\n",
            "Team      FC Barcelona\n",
            "Goals               50\n",
            "Name: 1, dtype: object\n",
            "   Year             Winner          Team  Goals\n",
            "0  2011  Cristiano Ronaldo   Real Madrid     40\n",
            "1  2012       Lionel Messi  FC Barcelona     50\n",
            "Winner    Cristiano Ronaldo\n",
            "Team            Real Madrid\n",
            "Goals                    40\n",
            "Name: 2011, dtype: object\n",
            "                 Winner          Team  Goals\n",
            "Year                                        \n",
            "2011  Cristiano Ronaldo   Real Madrid     40\n",
            "2012       Lionel Messi  FC Barcelona     50\n",
            "2013       Lionel Messi  FC Barcelona     46\n"
          ]
        }
      ]
    },
    {
      "cell_type": "markdown",
      "source": [
        "# Advanced Dataframe Operations"
      ],
      "metadata": {
        "id": "EO56eW3IZjdi"
      }
    },
    {
      "cell_type": "code",
      "source": [
        "file = pd.read_csv(\"goldenfoot.csv\")\n",
        "df = pd.DataFrame(file)\n",
        "data = df.groupby(\"Year\").min()\n",
        "\n",
        "# Sorting values according to a specific column which givan as a parameter.\n",
        "print(data.sort_values(\"Goals\", ascending=False), \"\\n\")\n",
        "\n",
        "# Finding the max value according to a specific column which givan as a parameter.\n",
        "print(data[\"Goals\"].max(), \"\\n\")\n",
        "\n",
        "# Finding the min value of the specific column which givan as a parameter.\n",
        "print(data[\"Goals\"].min(), \"\\n\")\n",
        "\n",
        "# Summing the whole value according to a specific column which givan as a parameter.\n",
        "print(data[\"Goals\"].sum(), \"\\n\")\n",
        "\n",
        "# Finding the mean value of the specific column which givan as a parameter.\n",
        "print(data[\"Goals\"].mean(), \"\\n\")\n",
        "\n",
        "# Counting the value of the specific column which givan as a parameter.\n",
        "print(data[\"Goals\"].count(), \"\\n\")\n",
        "\n",
        "# Sorting the indexing with using ascending=True. \n",
        "print(data.sort_index(), \"\\n\")\n",
        "\n",
        "# Getting the row which has the MOST GOALS.\n",
        "record = data.loc[data[\"Goals\"] == data[\"Goals\"].max()]\n",
        "print(record)\n",
        "\n",
        "# Data Analysis Return\n",
        "\n",
        "string = f'\\nIn the last decade; {list(record[\"Winner\"])[0]} scored {list(record[\"Goals\"])[0]} goals in a single season {list(record[\"Team\"])[0]} in the league.\\nThat makes {list(record[\"Winner\"])[0]} had the record which is most goals in a single season recorded at his domestic league.'\n",
        "print(string)\n",
        "\n",
        "# Data Analysis Return II\n",
        "\n",
        "string = f\"\\nTotal goals by award winners in the last decade:\\n\"\n",
        "print(string)\n",
        "soccer_list = list(set(list(df[\"Winner\"])))\n",
        "dictionary = {}\n",
        "for i in soccer_list:\n",
        "    dictionary[i] = data.loc[data['Winner'] == i]['Goals'].sum()\n",
        "\n",
        "serie = pd.Series(dictionary)\n",
        "print(serie.sort_values(ascending=False))"
      ],
      "metadata": {
        "colab": {
          "base_uri": "https://localhost:8080/"
        },
        "id": "UvK8y8mSZloJ",
        "outputId": "d84cfe94-7d64-47fe-ac81-ecedcb81f8f0"
      },
      "execution_count": 10,
      "outputs": [
        {
          "output_type": "stream",
          "name": "stdout",
          "text": [
            "                 Winner          Team  Goals\n",
            "Year                                        \n",
            "2012       Lionel Messi  FC Barcelona     50\n",
            "2015  Cristiano Ronaldo   Real Madrid     48\n",
            "2013       Lionel Messi  FC Barcelona     46\n",
            "2011  Cristiano Ronaldo   Real Madrid     40\n",
            "2016        Luis Suarez  FC Barcelona     40\n",
            "2017       Lionel Messi  FC Barcelona     37\n",
            "2019       Lionel Messi  FC Barcelona     36\n",
            "2020      Ciro Immobile    S.S. Lazio     36\n",
            "2018       Lionel Messi  FC Barcelona     34\n",
            "2014  Cristiano Ronaldo   Real Madrid     31 \n",
            "\n",
            "50 \n",
            "\n",
            "31 \n",
            "\n",
            "398 \n",
            "\n",
            "39.8 \n",
            "\n",
            "10 \n",
            "\n",
            "                 Winner          Team  Goals\n",
            "Year                                        \n",
            "2011  Cristiano Ronaldo   Real Madrid     40\n",
            "2012       Lionel Messi  FC Barcelona     50\n",
            "2013       Lionel Messi  FC Barcelona     46\n",
            "2014  Cristiano Ronaldo   Real Madrid     31\n",
            "2015  Cristiano Ronaldo   Real Madrid     48\n",
            "2016        Luis Suarez  FC Barcelona     40\n",
            "2017       Lionel Messi  FC Barcelona     37\n",
            "2018       Lionel Messi  FC Barcelona     34\n",
            "2019       Lionel Messi  FC Barcelona     36\n",
            "2020      Ciro Immobile    S.S. Lazio     36 \n",
            "\n",
            "            Winner          Team  Goals\n",
            "Year                                   \n",
            "2012  Lionel Messi  FC Barcelona     50\n",
            "\n",
            "In the last decade; Lionel Messi scored 50 goals in a single season FC Barcelona in the league.\n",
            "That makes Lionel Messi had the record which is most goals in a single season recorded at his domestic league.\n",
            "\n",
            "Total goals by award winners in the last decade:\n",
            "\n",
            "Lionel Messi         203\n",
            "Cristiano Ronaldo    119\n",
            "Luis Suarez           40\n",
            "Ciro Immobile         36\n",
            "dtype: int64\n"
          ]
        }
      ]
    }
  ]
}