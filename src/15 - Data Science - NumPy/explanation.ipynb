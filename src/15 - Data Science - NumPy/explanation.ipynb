{
 "cells": [
  {
   "cell_type": "code",
   "execution_count": 1,
   "metadata": {
    "_cell_guid": "b1076dfc-b9ad-4769-8c92-a6c4dae69d19",
    "_uuid": "8f2839f25d086af736a60e9eeb907d3b93b6e0e5",
    "execution": {
     "iopub.execute_input": "2020-10-31T18:13:43.878538Z",
     "iopub.status.busy": "2020-10-31T18:13:43.877498Z",
     "iopub.status.idle": "2020-10-31T18:13:43.880962Z",
     "shell.execute_reply": "2020-10-31T18:13:43.880174Z"
    },
    "papermill": {
     "duration": 0.025158,
     "end_time": "2020-10-31T18:13:43.881108",
     "exception": false,
     "start_time": "2020-10-31T18:13:43.855950",
     "status": "completed"
    },
    "tags": []
   },
   "outputs": [],
   "source": [
    "import numpy as np"
   ]
  },
  {
   "cell_type": "code",
   "execution_count": 2,
   "metadata": {
    "_cell_guid": "79c7e3d0-c299-4dcb-8224-4455121ee9b0",
    "_uuid": "d629ff2d2480ee46fbb7e2d37f6b5fab8052498a",
    "execution": {
     "iopub.execute_input": "2020-10-31T18:13:43.922391Z",
     "iopub.status.busy": "2020-10-31T18:13:43.921347Z",
     "iopub.status.idle": "2020-10-31T18:13:43.926140Z",
     "shell.execute_reply": "2020-10-31T18:13:43.927183Z"
    },
    "papermill": {
     "duration": 0.03091,
     "end_time": "2020-10-31T18:13:43.927392",
     "exception": false,
     "start_time": "2020-10-31T18:13:43.896482",
     "status": "completed"
    },
    "tags": []
   },
   "outputs": [
    {
     "name": "stdout",
     "output_type": "stream",
     "text": [
      "[1 2 3 4 5]\n"
     ]
    }
   ],
   "source": [
    "arr = np.array([1,2,3,4,5]) # vektör oluşturduk\n",
    "print(arr) # .shape , .size"
   ]
  },
  {
   "cell_type": "code",
   "execution_count": 3,
   "metadata": {
    "execution": {
     "iopub.execute_input": "2020-10-31T18:13:43.966655Z",
     "iopub.status.busy": "2020-10-31T18:13:43.965576Z",
     "iopub.status.idle": "2020-10-31T18:13:43.969429Z",
     "shell.execute_reply": "2020-10-31T18:13:43.970213Z"
    },
    "papermill": {
     "duration": 0.026681,
     "end_time": "2020-10-31T18:13:43.970397",
     "exception": false,
     "start_time": "2020-10-31T18:13:43.943716",
     "status": "completed"
    },
    "tags": []
   },
   "outputs": [
    {
     "name": "stdout",
     "output_type": "stream",
     "text": [
      "(2, 2)\n"
     ]
    }
   ],
   "source": [
    "arr2= np.array([[1,2],[3,4]])\n",
    "print(arr2.shape)"
   ]
  },
  {
   "cell_type": "code",
   "execution_count": 4,
   "metadata": {
    "execution": {
     "iopub.execute_input": "2020-10-31T18:13:44.014559Z",
     "iopub.status.busy": "2020-10-31T18:13:44.013406Z",
     "iopub.status.idle": "2020-10-31T18:13:44.018825Z",
     "shell.execute_reply": "2020-10-31T18:13:44.017951Z"
    },
    "papermill": {
     "duration": 0.032077,
     "end_time": "2020-10-31T18:13:44.018973",
     "exception": false,
     "start_time": "2020-10-31T18:13:43.986896",
     "status": "completed"
    },
    "tags": []
   },
   "outputs": [
    {
     "name": "stdout",
     "output_type": "stream",
     "text": [
      "[[1. 2. 0. 0.]\n",
      " [0. 0. 0. 0.]\n",
      " [0. 5. 0. 0.]]\n"
     ]
    }
   ],
   "source": [
    "a = np.zeros((3,4)) # 0 'lar ile dolu , np.ones , np.random.random\n",
    "\n",
    "a[0][0] = 1\n",
    "a[0][1] = 2\n",
    "a[2][1] = 5\n",
    "print(a)"
   ]
  },
  {
   "cell_type": "code",
   "execution_count": 5,
   "metadata": {
    "execution": {
     "iopub.execute_input": "2020-10-31T18:13:44.060747Z",
     "iopub.status.busy": "2020-10-31T18:13:44.059593Z",
     "iopub.status.idle": "2020-10-31T18:13:44.064627Z",
     "shell.execute_reply": "2020-10-31T18:13:44.063782Z"
    },
    "papermill": {
     "duration": 0.028272,
     "end_time": "2020-10-31T18:13:44.064788",
     "exception": false,
     "start_time": "2020-10-31T18:13:44.036516",
     "status": "completed"
    },
    "tags": []
   },
   "outputs": [
    {
     "name": "stdout",
     "output_type": "stream",
     "text": [
      "[10 15 20 25 30 35 40 45]\n"
     ]
    }
   ],
   "source": [
    "a = np.arange(10,50,5)\n",
    "print(a)"
   ]
  },
  {
   "cell_type": "code",
   "execution_count": 6,
   "metadata": {
    "execution": {
     "iopub.execute_input": "2020-10-31T18:13:44.105567Z",
     "iopub.status.busy": "2020-10-31T18:13:44.104742Z",
     "iopub.status.idle": "2020-10-31T18:13:44.109145Z",
     "shell.execute_reply": "2020-10-31T18:13:44.109720Z"
    },
    "papermill": {
     "duration": 0.027863,
     "end_time": "2020-10-31T18:13:44.109901",
     "exception": false,
     "start_time": "2020-10-31T18:13:44.082038",
     "status": "completed"
    },
    "tags": []
   },
   "outputs": [
    {
     "name": "stdout",
     "output_type": "stream",
     "text": [
      "[10.         12.10526316 14.21052632 16.31578947 18.42105263 20.52631579\n",
      " 22.63157895 24.73684211 26.84210526 28.94736842 31.05263158 33.15789474\n",
      " 35.26315789 37.36842105 39.47368421 41.57894737 43.68421053 45.78947368\n",
      " 47.89473684 50.        ]\n"
     ]
    }
   ],
   "source": [
    "a = np.linspace(10,50,20)\n",
    "print(a)"
   ]
  },
  {
   "cell_type": "code",
   "execution_count": 7,
   "metadata": {
    "execution": {
     "iopub.execute_input": "2020-10-31T18:13:44.155916Z",
     "iopub.status.busy": "2020-10-31T18:13:44.154961Z",
     "iopub.status.idle": "2020-10-31T18:13:44.158537Z",
     "shell.execute_reply": "2020-10-31T18:13:44.159152Z"
    },
    "papermill": {
     "duration": 0.029591,
     "end_time": "2020-10-31T18:13:44.159332",
     "exception": false,
     "start_time": "2020-10-31T18:13:44.129741",
     "status": "completed"
    },
    "tags": []
   },
   "outputs": [
    {
     "name": "stdout",
     "output_type": "stream",
     "text": [
      "[5 7 9]\n",
      "[-3 -3 -3]\n",
      "[1 4 9]\n",
      "[0.84147098 0.90929743 0.14112001]\n"
     ]
    }
   ],
   "source": [
    "a = np.array([1,2,3])\n",
    "b = np.array([4,5,6])\n",
    "\n",
    "print(a+b)\n",
    "print(a-b)\n",
    "print(a**2)\n",
    "print(np.sin(a))"
   ]
  },
  {
   "cell_type": "code",
   "execution_count": 8,
   "metadata": {
    "execution": {
     "iopub.execute_input": "2020-10-31T18:13:44.203965Z",
     "iopub.status.busy": "2020-10-31T18:13:44.202761Z",
     "iopub.status.idle": "2020-10-31T18:13:44.207842Z",
     "shell.execute_reply": "2020-10-31T18:13:44.209260Z"
    },
    "papermill": {
     "duration": 0.031664,
     "end_time": "2020-10-31T18:13:44.209496",
     "exception": false,
     "start_time": "2020-10-31T18:13:44.177832",
     "status": "completed"
    },
    "tags": []
   },
   "outputs": [
    {
     "name": "stdout",
     "output_type": "stream",
     "text": [
      "[ True False False]\n"
     ]
    }
   ],
   "source": [
    "print(a<2)"
   ]
  },
  {
   "cell_type": "code",
   "execution_count": 9,
   "metadata": {
    "execution": {
     "iopub.execute_input": "2020-10-31T18:13:44.257381Z",
     "iopub.status.busy": "2020-10-31T18:13:44.256538Z",
     "iopub.status.idle": "2020-10-31T18:13:44.260553Z",
     "shell.execute_reply": "2020-10-31T18:13:44.261114Z"
    },
    "papermill": {
     "duration": 0.031958,
     "end_time": "2020-10-31T18:13:44.261284",
     "exception": false,
     "start_time": "2020-10-31T18:13:44.229326",
     "status": "completed"
    },
    "tags": []
   },
   "outputs": [
    {
     "name": "stdout",
     "output_type": "stream",
     "text": [
      "[[ 1  4  9]\n",
      " [16 25 36]]\n"
     ]
    }
   ],
   "source": [
    "c = np.array([[1,2,3],[4,5,6]])\n",
    "d = np.array([[1,2,3],[4,5,6]])\n",
    "\n",
    "\n",
    "print(c*d)  # element wise product"
   ]
  },
  {
   "cell_type": "code",
   "execution_count": 10,
   "metadata": {
    "execution": {
     "iopub.execute_input": "2020-10-31T18:13:44.307340Z",
     "iopub.status.busy": "2020-10-31T18:13:44.306241Z",
     "iopub.status.idle": "2020-10-31T18:13:44.311023Z",
     "shell.execute_reply": "2020-10-31T18:13:44.310301Z"
    },
    "papermill": {
     "duration": 0.030997,
     "end_time": "2020-10-31T18:13:44.311167",
     "exception": false,
     "start_time": "2020-10-31T18:13:44.280170",
     "status": "completed"
    },
    "tags": []
   },
   "outputs": [
    {
     "data": {
      "text/plain": [
       "array([[14, 32],\n",
       "       [32, 77]])"
      ]
     },
     "execution_count": 10,
     "metadata": {},
     "output_type": "execute_result"
    }
   ],
   "source": [
    "c.dot(d.T)"
   ]
  },
  {
   "cell_type": "code",
   "execution_count": 11,
   "metadata": {
    "execution": {
     "iopub.execute_input": "2020-10-31T18:13:44.356706Z",
     "iopub.status.busy": "2020-10-31T18:13:44.355769Z",
     "iopub.status.idle": "2020-10-31T18:13:44.359183Z",
     "shell.execute_reply": "2020-10-31T18:13:44.359790Z"
    },
    "papermill": {
     "duration": 0.029278,
     "end_time": "2020-10-31T18:13:44.359950",
     "exception": false,
     "start_time": "2020-10-31T18:13:44.330672",
     "status": "completed"
    },
    "tags": []
   },
   "outputs": [
    {
     "name": "stdout",
     "output_type": "stream",
     "text": [
      "\n"
     ]
    }
   ],
   "source": [
    "\"\"\"\n",
    "print(c.sum())\n",
    "print(c.max())\n",
    "print(c.min())\n",
    "\n",
    "\n",
    "print(c.sum(axis=0))\n",
    "print(c.sum(axis=1))\n",
    "\n",
    "print(np.sqrt(c))\n",
    "print(np.square(c)) # a**2\n",
    "print(np.add(a,a))\n",
    "\"\"\"\n",
    "print(\"\")"
   ]
  },
  {
   "cell_type": "code",
   "execution_count": 12,
   "metadata": {
    "execution": {
     "iopub.execute_input": "2020-10-31T18:13:44.409242Z",
     "iopub.status.busy": "2020-10-31T18:13:44.408184Z",
     "iopub.status.idle": "2020-10-31T18:13:44.412112Z",
     "shell.execute_reply": "2020-10-31T18:13:44.413015Z"
    },
    "papermill": {
     "duration": 0.033201,
     "end_time": "2020-10-31T18:13:44.413234",
     "exception": false,
     "start_time": "2020-10-31T18:13:44.380033",
     "status": "completed"
    },
    "tags": []
   },
   "outputs": [
    {
     "name": "stdout",
     "output_type": "stream",
     "text": [
      "1\n",
      "[1 2 3 4]\n",
      "[7 6 5 4 3 2 1]\n"
     ]
    }
   ],
   "source": [
    "array = np.array([1,2,3,4,5,6,7])   #  vector dimension = 1\n",
    "\n",
    "print(array[0])\n",
    "\n",
    "print(array[0:4])\n",
    "\n",
    "reverse_array = array[::-1]\n",
    "print(reverse_array)"
   ]
  },
  {
   "cell_type": "code",
   "execution_count": 13,
   "metadata": {
    "execution": {
     "iopub.execute_input": "2020-10-31T18:13:44.464074Z",
     "iopub.status.busy": "2020-10-31T18:13:44.463148Z",
     "iopub.status.idle": "2020-10-31T18:13:44.466661Z",
     "shell.execute_reply": "2020-10-31T18:13:44.467535Z"
    },
    "papermill": {
     "duration": 0.033267,
     "end_time": "2020-10-31T18:13:44.467738",
     "exception": false,
     "start_time": "2020-10-31T18:13:44.434471",
     "status": "completed"
    },
    "tags": []
   },
   "outputs": [
    {
     "name": "stdout",
     "output_type": "stream",
     "text": [
      "[[1 2 3]\n",
      " [4 5 6]]\n",
      "[1 2 3]\n"
     ]
    }
   ],
   "source": [
    "c = np.array([[1,2,3],[4,5,6]])\n",
    "print(c)\n",
    "print(c[0,:])"
   ]
  },
  {
   "cell_type": "code",
   "execution_count": 14,
   "metadata": {
    "execution": {
     "iopub.execute_input": "2020-10-31T18:13:44.520476Z",
     "iopub.status.busy": "2020-10-31T18:13:44.519487Z",
     "iopub.status.idle": "2020-10-31T18:13:44.524047Z",
     "shell.execute_reply": "2020-10-31T18:13:44.523154Z"
    },
    "papermill": {
     "duration": 0.03472,
     "end_time": "2020-10-31T18:13:44.524225",
     "exception": false,
     "start_time": "2020-10-31T18:13:44.489505",
     "status": "completed"
    },
    "tags": []
   },
   "outputs": [
    {
     "name": "stdout",
     "output_type": "stream",
     "text": [
      "[1 2 3 4 5 6 7 8 9]\n",
      "[[1 2 3]\n",
      " [4 5 6]\n",
      " [7 8 9]]\n"
     ]
    }
   ],
   "source": [
    "array = np.array([[1,2,3],[4,5,6],[7,8,9]])\n",
    "a = array.ravel() #flatten\n",
    "print(a)\n",
    "array2 = a.reshape(3,3) # geri reshape\n",
    "print(array2)"
   ]
  },
  {
   "cell_type": "code",
   "execution_count": 15,
   "metadata": {
    "execution": {
     "iopub.execute_input": "2020-10-31T18:13:44.575486Z",
     "iopub.status.busy": "2020-10-31T18:13:44.574440Z",
     "iopub.status.idle": "2020-10-31T18:13:44.578118Z",
     "shell.execute_reply": "2020-10-31T18:13:44.578786Z"
    },
    "papermill": {
     "duration": 0.032804,
     "end_time": "2020-10-31T18:13:44.578951",
     "exception": false,
     "start_time": "2020-10-31T18:13:44.546147",
     "status": "completed"
    },
    "tags": []
   },
   "outputs": [
    {
     "name": "stdout",
     "output_type": "stream",
     "text": [
      "[5 2 3]\n"
     ]
    }
   ],
   "source": [
    "a = np.array([1,2,3])\n",
    "\n",
    "b = a\n",
    "b[0] = 5\n",
    "c = a\n",
    "print(c)"
   ]
  },
  {
   "cell_type": "code",
   "execution_count": 16,
   "metadata": {
    "execution": {
     "iopub.execute_input": "2020-10-31T18:13:44.634323Z",
     "iopub.status.busy": "2020-10-31T18:13:44.633322Z",
     "iopub.status.idle": "2020-10-31T18:13:44.636844Z",
     "shell.execute_reply": "2020-10-31T18:13:44.637547Z"
    },
    "papermill": {
     "duration": 0.035909,
     "end_time": "2020-10-31T18:13:44.637710",
     "exception": false,
     "start_time": "2020-10-31T18:13:44.601801",
     "status": "completed"
    },
    "tags": []
   },
   "outputs": [
    {
     "name": "stdout",
     "output_type": "stream",
     "text": [
      "[1 2 3]\n"
     ]
    }
   ],
   "source": [
    "d =  np.array([1,2,3])\n",
    "e = d.copy()\n",
    "e[0] = 5\n",
    "print(d)"
   ]
  },
  {
   "cell_type": "code",
   "execution_count": 17,
   "metadata": {
    "execution": {
     "iopub.execute_input": "2020-10-31T18:13:44.691392Z",
     "iopub.status.busy": "2020-10-31T18:13:44.690376Z",
     "iopub.status.idle": "2020-10-31T18:13:44.695421Z",
     "shell.execute_reply": "2020-10-31T18:13:44.694682Z"
    },
    "papermill": {
     "duration": 0.034521,
     "end_time": "2020-10-31T18:13:44.695546",
     "exception": false,
     "start_time": "2020-10-31T18:13:44.661025",
     "status": "completed"
    },
    "tags": []
   },
   "outputs": [
    {
     "data": {
      "text/plain": [
       "array([1, 2, 3, 5, 2, 3])"
      ]
     },
     "execution_count": 17,
     "metadata": {},
     "output_type": "execute_result"
    }
   ],
   "source": [
    "array3 = np.vstack((d,e)) # dikey\n",
    "array4 = np.hstack((d,e)) # yatay\n",
    "array4"
   ]
  }
 ],
 "metadata": {
  "kernelspec": {
   "display_name": "Python 3",
   "language": "python",
   "name": "python3"
  },
  "language_info": {
   "codemirror_mode": {
    "name": "ipython",
    "version": 3
   },
   "file_extension": ".py",
   "mimetype": "text/x-python",
   "name": "python",
   "nbconvert_exporter": "python",
   "pygments_lexer": "ipython3",
   "version": "3.7.6"
  },
  "papermill": {
   "duration": 6.130669,
   "end_time": "2020-10-31T18:13:44.828461",
   "environment_variables": {},
   "exception": null,
   "input_path": "__notebook__.ipynb",
   "output_path": "__notebook__.ipynb",
   "parameters": {},
   "start_time": "2020-10-31T18:13:38.697792",
   "version": "2.1.0"
  }
 },
 "nbformat": 4,
 "nbformat_minor": 4
}
