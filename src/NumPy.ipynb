{
  "nbformat": 4,
  "nbformat_minor": 0,
  "metadata": {
    "colab": {
      "name": "NumPy.ipynb",
      "provenance": [],
      "collapsed_sections": []
    },
    "kernelspec": {
      "name": "python3",
      "display_name": "Python 3"
    },
    "language_info": {
      "name": "python"
    }
  },
  "cells": [
    {
      "cell_type": "code",
      "execution_count": 2,
      "metadata": {
        "id": "cxqb9RW4KzJT"
      },
      "outputs": [],
      "source": [
        "import numpy as np"
      ]
    },
    {
      "cell_type": "markdown",
      "source": [
        "# NumPy Basics"
      ],
      "metadata": {
        "id": "h_1H_MqvPHam"
      }
    },
    {
      "cell_type": "code",
      "source": [
        "# Creating an array.\n",
        "array = np.array([1,3,5,7,9])\n",
        "\n",
        "# Creating an range array.\n",
        "array = range = np.arange(1,10)\n",
        "\n",
        "# Creating an range array x by x.\n",
        "array = np.arange(10,100,3)\n",
        "\n",
        "# Creating an array of zeros for x times.\n",
        "array = np.zeros(10)\n",
        "\n",
        "# Creating an array of ones for x times.\n",
        "array = np.ones(10) \n",
        "\n",
        "# Creating a range array y by y.\n",
        "array = np.linspace(0,100,5)\n",
        "\n",
        "# Creating a range array.\n",
        "array = np.arange(50)\n",
        "\n",
        "# Shaping the array to 5 rows and 10 columns.\n",
        "array = array.reshape(5,10)\n",
        "\n",
        "# Selecting randomly count of z values between x and y.\n",
        "array = np.random.randint(10,100,6)\n",
        "\n",
        "# Returns the array/matrix size.\n",
        "array.ndim "
      ],
      "metadata": {
        "colab": {
          "base_uri": "https://localhost:8080/"
        },
        "id": "btRiXzQcPJ_Y",
        "outputId": "dc3b132a-c1cf-4bf7-f657-b0916265a894"
      },
      "execution_count": 19,
      "outputs": [
        {
          "output_type": "execute_result",
          "data": {
            "text/plain": [
              "1"
            ]
          },
          "metadata": {},
          "execution_count": 19
        }
      ]
    },
    {
      "cell_type": "markdown",
      "source": [
        "# Advanced Definitions"
      ],
      "metadata": {
        "id": "hX7ed0JORRz9"
      }
    },
    {
      "cell_type": "code",
      "source": [
        "# Definition of a Vector.\n",
        "\n",
        "vector = np.array([1,3,5,7,9])\n",
        "print(f\"VECTOR\\n{vector}\\nndim: {vector.ndim}\")\n",
        "\n",
        "# Definition of a Matrix.\n",
        "\n",
        "matrix = np.array([[1,3,5,7,9],[11,13,15,17,19]])\n",
        "print(f\"\\nMATRIX\\n{matrix}\\nndim: {matrix.ndim}\")\n",
        "\n",
        "# Definition of a Tensor.\n",
        "\n",
        "tensor = np.array([[[0,2,4,6,8],[10,12,14,16,18]],[[1,3,5,7,9],[11,13,15,17,19]]])\n",
        "print(f\"\\nTENSOR\\n{tensor}\\nndim: {tensor.ndim}\")"
      ],
      "metadata": {
        "colab": {
          "base_uri": "https://localhost:8080/"
        },
        "id": "rNz89RxyRTVC",
        "outputId": "ca7edcc7-9124-459e-cd39-315876204152"
      },
      "execution_count": 20,
      "outputs": [
        {
          "output_type": "stream",
          "name": "stdout",
          "text": [
            "VECTOR\n",
            "[1 3 5 7 9]\n",
            "ndim: 1\n",
            "\n",
            "MATRIX\n",
            "[[ 1  3  5  7  9]\n",
            " [11 13 15 17 19]]\n",
            "ndim: 2\n",
            "\n",
            "TENSOR\n",
            "[[[ 0  2  4  6  8]\n",
            "  [10 12 14 16 18]]\n",
            "\n",
            " [[ 1  3  5  7  9]\n",
            "  [11 13 15 17 19]]]\n",
            "ndim: 3\n"
          ]
        }
      ]
    },
    {
      "cell_type": "markdown",
      "source": [
        "# Reshaping and Fixing Arrays"
      ],
      "metadata": {
        "id": "w9VyTtxESNxB"
      }
    },
    {
      "cell_type": "code",
      "source": [
        "# Variables.\n",
        "\n",
        "v = np.array([1,2,3,4,5,6])\n",
        "m = np.array([[1,2,3,4,5,6],[6,7,8,9,10,11]])\n",
        "t = np.array([[[1,2,3,4,5,6],[6,7,8,9,10,11]],[[-1,-2,-3,-4,-5,-6],[-6,-7,-8,-9,-10,-11]]])\n",
        "\n",
        "# Reshaping a vector.\n",
        "\n",
        "v = v.reshape(3,2) # X * Y must be equal to total lenght of the vector!\n",
        "print(f\"Vector to Matrix\\n{v}\")\n",
        "\n",
        "v = v.reshape(1,2,3) # X * Y must be equal to total lenght of the vector!\n",
        "print(f\"\\nVector to Tensor\\n{v}\")\n",
        "\n",
        "# Reshaping a matrix.\n",
        "\n",
        "m = m.reshape(6,2) # X * Y must be equal to total lenght of the matrix!\n",
        "print(f\"\\nMatrix to Matrix\\n{m}\")\n",
        "\n",
        "m = m.reshape(3,2,2) # X * Y must be equal to total lenght of the matrix!\n",
        "print(f\"\\nMatrix to Tensor\\n{m}\")\n",
        "\n",
        "# Reshaping a tensor.\n",
        "\n",
        "t = t.reshape(3,4,2) # X * Y must be equal to total lenght of the matrix!\n",
        "print(f\"\\nTensor to Tensor\\n{t}\")\n",
        "\n",
        "t = t.reshape(6,4) # X * Y must be equal to total lenght of the matrix!\n",
        "print(f\"\\nTensor to Matrix\\n{t}\")\n",
        "\n",
        "t = np.array(t.reshape(24,1).flatten(), ndmin=1) # X * Y must be equal to total lenght of the matrix!\n",
        "print(f\"\\nTensor to Vector\\n{t}\")"
      ],
      "metadata": {
        "colab": {
          "base_uri": "https://localhost:8080/"
        },
        "id": "nhRYEDr6SPir",
        "outputId": "678b15c6-d245-4fe0-e579-b5ef5a22918c"
      },
      "execution_count": 21,
      "outputs": [
        {
          "output_type": "stream",
          "name": "stdout",
          "text": [
            "Vector to Matrix\n",
            "[[1 2]\n",
            " [3 4]\n",
            " [5 6]]\n",
            "\n",
            "Vector to Tensor\n",
            "[[[1 2 3]\n",
            "  [4 5 6]]]\n",
            "\n",
            "Matrix to Matrix\n",
            "[[ 1  2]\n",
            " [ 3  4]\n",
            " [ 5  6]\n",
            " [ 6  7]\n",
            " [ 8  9]\n",
            " [10 11]]\n",
            "\n",
            "Matrix to Tensor\n",
            "[[[ 1  2]\n",
            "  [ 3  4]]\n",
            "\n",
            " [[ 5  6]\n",
            "  [ 6  7]]\n",
            "\n",
            " [[ 8  9]\n",
            "  [10 11]]]\n",
            "\n",
            "Tensor to Tensor\n",
            "[[[  1   2]\n",
            "  [  3   4]\n",
            "  [  5   6]\n",
            "  [  6   7]]\n",
            "\n",
            " [[  8   9]\n",
            "  [ 10  11]\n",
            "  [ -1  -2]\n",
            "  [ -3  -4]]\n",
            "\n",
            " [[ -5  -6]\n",
            "  [ -6  -7]\n",
            "  [ -8  -9]\n",
            "  [-10 -11]]]\n",
            "\n",
            "Tensor to Matrix\n",
            "[[  1   2   3   4]\n",
            " [  5   6   6   7]\n",
            " [  8   9  10  11]\n",
            " [ -1  -2  -3  -4]\n",
            " [ -5  -6  -6  -7]\n",
            " [ -8  -9 -10 -11]]\n",
            "\n",
            "Tensor to Vector\n",
            "[  1   2   3   4   5   6   6   7   8   9  10  11  -1  -2  -3  -4  -5  -6\n",
            "  -6  -7  -8  -9 -10 -11]\n"
          ]
        }
      ]
    },
    {
      "cell_type": "markdown",
      "source": [
        "# Indexing the NumPy Arrays"
      ],
      "metadata": {
        "id": "fxKgCUpkSsg3"
      }
    },
    {
      "cell_type": "code",
      "source": [
        "# Creating a array like = [0 5 10 15 20]\n",
        "numbers = np.arange(0,25,5)\n",
        "\n",
        "# Input Parameter = Index Value, Output Parameter = Element.\n",
        "result = numbers[4]\n",
        "\n",
        "# Returns the last element of the array.\n",
        "result = numbers[-1]\n",
        "\n",
        "# Returns between a and b indexes.\n",
        "result = numbers[0:3]\n",
        "\n",
        "# Returns the whole array.\n",
        "result = numbers[::]\n",
        "\n",
        "# Returns the whole array three by three.\n",
        "result = numbers[::3]\n",
        "\n",
        "# Shows the x'th array's y'th element.\n",
        "numberx = np.array([[0,1,2],[3,4,5]])\n",
        "result = numberx[1,0]\n",
        "\n",
        "print(result)"
      ],
      "metadata": {
        "colab": {
          "base_uri": "https://localhost:8080/"
        },
        "id": "1XdMzZEXSuUn",
        "outputId": "1889d0d5-b668-4c85-e04a-1f44ff00d410"
      },
      "execution_count": 22,
      "outputs": [
        {
          "output_type": "stream",
          "name": "stdout",
          "text": [
            "3\n"
          ]
        }
      ]
    },
    {
      "cell_type": "markdown",
      "source": [
        "# Sort and Order Operations for NumPy Arrays"
      ],
      "metadata": {
        "id": "7Svqu76RSHIx"
      }
    },
    {
      "cell_type": "code",
      "source": [
        "a = np.array([[1,9,5],[7,3,11]])\n",
        "\n",
        "# Sort\n",
        "\n",
        "print(\"Main Array:\")\n",
        "print(a)\n",
        "print(\"\\n\")\n",
        "\n",
        "print(\"After the sort() function:\")\n",
        "print(np.sort(a))\n",
        "print(\"\\n\")\n",
        "\n",
        "# Order\n",
        "\n",
        "dt = np.dtype([(\"name\", \"S50\"), (\"age\", int)])\n",
        "a = np.array([(\"Beckham\", 44),(\"Cristiano\",36),(\"Xavi\",41),(\"Iniesta\",36)], dtype = dt)\n",
        "\n",
        "print(\"Main Array:\")\n",
        "print(a)\n",
        "print(\"\\n\")\n",
        "\n",
        "print(\"Order by Age:\")\n",
        "print(np.sort(a, order=\"age\"))\n",
        "print(\"\\n\")\n",
        "\n",
        "print(\"Order by Name:\")\n",
        "print(np.sort(a, order=\"name\"))\n",
        "print(\"\\n\")"
      ],
      "metadata": {
        "colab": {
          "base_uri": "https://localhost:8080/"
        },
        "id": "Eg_pOXDCSKp7",
        "outputId": "41c91e8a-55c7-4657-bd75-805090201fc9"
      },
      "execution_count": 23,
      "outputs": [
        {
          "output_type": "stream",
          "name": "stdout",
          "text": [
            "Main Array:\n",
            "[[ 1  9  5]\n",
            " [ 7  3 11]]\n",
            "\n",
            "\n",
            "After the sort() function:\n",
            "[[ 1  5  9]\n",
            " [ 3  7 11]]\n",
            "\n",
            "\n",
            "Main Array:\n",
            "[(b'Beckham', 44) (b'Cristiano', 36) (b'Xavi', 41) (b'Iniesta', 36)]\n",
            "\n",
            "\n",
            "Order by Age:\n",
            "[(b'Cristiano', 36) (b'Iniesta', 36) (b'Xavi', 41) (b'Beckham', 44)]\n",
            "\n",
            "\n",
            "Order by Name:\n",
            "[(b'Beckham', 44) (b'Cristiano', 36) (b'Iniesta', 36) (b'Xavi', 41)]\n",
            "\n",
            "\n"
          ]
        }
      ]
    },
    {
      "cell_type": "markdown",
      "source": [
        "# Introduction to the NumPy Maths"
      ],
      "metadata": {
        "id": "avbTq2EnSS2B"
      }
    },
    {
      "cell_type": "code",
      "source": [
        "# Mathematical Operators.\n",
        "\n",
        "numbers1 = np.random.randint(10,100,6)\n",
        "numbers2 = np.random.randint(10,100,6)\n",
        "\n",
        "result = np.sin(numbers1)\n",
        "result = np.cos(numbers1)\n",
        "result = np.sqrt(numbers1)\n",
        "result = np.log(np.array([2.7, 10])) # Log base defined for euler number.\n",
        "\n",
        "print(result)\n",
        "\n",
        "# Array Stacking.\n",
        "\n",
        "mnumbers1 = numbers1.reshape(2,3)\n",
        "mnumbers2 = numbers2.reshape(2,3)\n",
        "\n",
        "print(mnumbers1)\n",
        "print(mnumbers2)\n",
        "\n",
        "result = np.vstack((mnumbers1, mnumbers2))\n",
        "result = np.hstack((mnumbers1, mnumbers2))\n",
        "\n",
        "print(result)\n",
        "\n",
        "# Mathematical Comparing.\n",
        "\n",
        "result = numbers1 >= 50\n",
        "print(numbers1[result])"
      ],
      "metadata": {
        "colab": {
          "base_uri": "https://localhost:8080/"
        },
        "id": "lSHxuGUGSVTC",
        "outputId": "f500b1ee-d914-4099-bacc-8b75a5df8fe4"
      },
      "execution_count": 24,
      "outputs": [
        {
          "output_type": "stream",
          "name": "stdout",
          "text": [
            "[0.99325177 2.30258509]\n",
            "[[53 70 48]\n",
            " [41 93 33]]\n",
            "[[67 95 31]\n",
            " [13 46 80]]\n",
            "[[53 70 48 67 95 31]\n",
            " [41 93 33 13 46 80]]\n",
            "[53 70 93]\n"
          ]
        }
      ]
    },
    {
      "cell_type": "markdown",
      "source": [
        "# NumPy Maths: Combine Operations"
      ],
      "metadata": {
        "id": "xoOSIfcBP8Zv"
      }
    },
    {
      "cell_type": "code",
      "source": [
        "# Variables.\n",
        "\n",
        "vx = np.array([1,2,3,4,5])\n",
        "vy = np.array([1,2,3,4,5])\n",
        "mx = np.array([[1,2,3,4,5],[6,7,8,9,10]])\n",
        "my = np.array([[1,2,3,4,5],[6,7,8,9,10]])\n",
        "tx = np.array([[[1,2,3,4,5],[6,7,8,9,10]],[[-1,-2,-3,-4,-5],[-6,-7,-8,-9,-10]]])\n",
        "ty = np.array([[[1,2,3,4,5],[6,7,8,9,10]],[[-1,-2,-3,-4,-5],[-6,-7,-8,-9,-10]]])\n",
        "\n",
        "# Array Combine.\n",
        "\n",
        "def xcombine(x,y):\n",
        "    assert len(x.shape)\n",
        "    assert x.shape == y.shape\n",
        "\n",
        "    x = x.copy()\n",
        "\n",
        "    for i in range(x.shape[0]):\n",
        "        x[i] += y[i]\n",
        "    return x\n",
        "\n",
        "# Matrix Combine.\n",
        "\n",
        "def mcombine(x,y):\n",
        "    assert len(x.shape)\n",
        "    assert x.shape == y.shape\n",
        "\n",
        "    x = x.copy()\n",
        "\n",
        "    for i in range(x.shape[0]):\n",
        "        for j in range(x.shape[1]):\n",
        "            x[i,j] += y[i,j]\n",
        "    return x\n",
        "\n",
        "# Tensor Combine.\n",
        "\n",
        "def tcombine(x,y):\n",
        "    assert len(x.shape)\n",
        "    assert x.shape == y.shape\n",
        "\n",
        "    x = x.copy()\n",
        "\n",
        "    for i in range(x.shape[0]):\n",
        "        for j in range(x.shape[1]):\n",
        "            for q in range(x.shape[2]):\n",
        "                x[i,j,q] += y[i,j,q]\n",
        "    return x\n",
        "\n",
        "# Cross Variable Combine >>> Vector X Matrix.\n",
        "\n",
        "def cvxcross(x,y):\n",
        "    # X is Matrix.\n",
        "    # Y is Vector.\n",
        "    # Ndim Comprasion Always Have to be Like That: x > y.\n",
        "    # Vector values added seperately to each matrix columns.\n",
        "    assert len(x.shape) == 2\n",
        "    assert len(y.shape) == 1\n",
        "    assert x.shape[1] == y.shape[0]\n",
        "\n",
        "    x = x.copy()\n",
        "\n",
        "    for i in range(x.shape[0]):\n",
        "        for j in range(x.shape[1]):\n",
        "            x[i, j] += y[j]\n",
        "    return x\n",
        "\n",
        "# Results for combining.\n",
        "\n",
        "print(f\"VX + VY\\n{xcombine(vx,vy)}\\nNdim: {vx.ndim}\")\n",
        "print(f\"\\nMX + MY\\n{mcombine(mx,my)}\\nNdim: {mx.ndim}\")\n",
        "print(f\"\\nTX + TY\\n{tcombine(tx,ty)}\\nNdim: {tx.ndim}\")\n",
        "print(f\"\\nMX + VX\\n{cvxcross(mx,vx)}\")"
      ],
      "metadata": {
        "id": "PxnjNqoFP9-E"
      },
      "execution_count": null,
      "outputs": []
    },
    {
      "cell_type": "markdown",
      "source": [
        "# NumPy Maths: Subtraction Operations"
      ],
      "metadata": {
        "id": "J8w7_KTvR2E0"
      }
    },
    {
      "cell_type": "code",
      "source": [
        "# Variables.\n",
        "\n",
        "vx = np.array([1,2,3,4,5])\n",
        "vy = np.array([1,2,3,4,5])\n",
        "mx = np.array([[1,2,3,4,5],[6,7,8,9,10]])\n",
        "my = np.array([[1,2,3,4,5],[6,7,8,9,10]])\n",
        "tx = np.array([[[1,2,3,4,5],[6,7,8,9,10]],[[-1,-2,-3,-4,-5],[-6,-7,-8,-9,-10]]])\n",
        "ty = np.array([[[1,2,3,4,5],[6,7,8,9,10]],[[-1,-2,-3,-4,-5],[-6,-7,-8,-9,-10]]])\n",
        "\n",
        "# Array Subtract.\n",
        "\n",
        "def xsub(x,y):\n",
        "    assert len(x.shape)\n",
        "    assert x.shape == y.shape\n",
        "\n",
        "    x = x.copy()\n",
        "\n",
        "    for i in range(x.shape):\n",
        "        x[i] -= y[i]\n",
        "    return x\n",
        "\n",
        "# Matrix Subtract.\n",
        "\n",
        "def msub(x,y):\n",
        "    assert len(x.shape)\n",
        "    assert x.shape == y.shape\n",
        "\n",
        "    x = x.copy()\n",
        "\n",
        "    for i in range(x.shape[0]):\n",
        "        for j in range(x.shape[1]):\n",
        "            x[i,j] -= y[i,j]\n",
        "    return x\n",
        "\n",
        "# Tensor Subtract.\n",
        "\n",
        "def tsub(x,y):\n",
        "    assert len(x.shape)\n",
        "    assert x.shape == y.shape\n",
        "\n",
        "    x = x.copy()\n",
        "\n",
        "    for i in range(x.shape[0]):\n",
        "        for j in range(x.shape[1]):\n",
        "            for q in range(x.shape[2]):\n",
        "                x[i,j,q] -= y[i,j,q]\n",
        "    return x\n",
        "\n",
        "def cvxcross(x,y):\n",
        "    # X is Matrix.\n",
        "    # Y is Vector.\n",
        "    # Ndim Comprasion Always Have to be Like That : X > Y.\n",
        "    # Vector values added seperately to each matrix columns.\n",
        "    assert len(x.shape) == 2\n",
        "    assert len(y.shape) == 1\n",
        "    assert x.shape[1] == y.shape[0]\n",
        "\n",
        "    x = x.copy()\n",
        "\n",
        "    for i in range(x.shape[0]):\n",
        "        for j in range(x.shape[1]):\n",
        "            x[i, j] -= y[j]\n",
        "    return x\n",
        "\n",
        "# Results\n",
        "\n",
        "print(f\"VX - VY\\n{xsub(vx,vy)}\\nNdim: {vx.ndim}\")\n",
        "print(f\"\\nMX - MY\\n{msub(mx,my)}\\nNdim: {mx.ndim}\")\n",
        "print(f\"\\nTX - TY\\n{tsub(tx,ty)}\\nNdim: {tx.ndim}\")\n",
        "print(f\"\\nMX - VX\\n{cvxcross(mx,vx)}\")"
      ],
      "metadata": {
        "id": "vB9mu_iqR56K"
      },
      "execution_count": null,
      "outputs": []
    },
    {
      "cell_type": "markdown",
      "source": [
        "# NumPy Maths: Multiplication Operations"
      ],
      "metadata": {
        "id": "ZxPc5NtsRpCp"
      }
    },
    {
      "cell_type": "code",
      "source": [
        "# Variables.\n",
        "\n",
        "vx = np.array([1,2,3,4,5])\n",
        "vy = np.array([1,2,3,4,5])\n",
        "mx = np.array([[1,2,3,4,5],[6,7,8,9,10]])\n",
        "my = np.array([[1,2,3,4,5],[6,7,8,9,10]])\n",
        "tx = np.array([[[1,2,3,4,5],[6,7,8,9,10]],[[-1,-2,-3,-4,-5],[-6,-7,-8,-9,-10]]])\n",
        "ty = np.array([[[1,2,3,4,5],[6,7,8,9,10]],[[-1,-2,-3,-4,-5],[-6,-7,-8,-9,-10]]])\n",
        "\n",
        "# Array Multiply.\n",
        "\n",
        "def xmultiply(x,y):\n",
        "    assert len(x.shape)\n",
        "    assert x.shape == y.shape\n",
        "\n",
        "    x = x.copy()\n",
        "\n",
        "    for i in range(x.shape[0]):\n",
        "        x[i] *= y[i]\n",
        "    return x\n",
        "\n",
        "# Matrix Multiply.\n",
        "\n",
        "def mmultiply(x,y):\n",
        "    assert len(x.shape)\n",
        "    assert x.shape == y.shape\n",
        "\n",
        "    x = x.copy()\n",
        "\n",
        "    for i in range(x.shape[0]):\n",
        "        for j in range(x.shape[1]):\n",
        "            x[i,j] *= y[i,j]\n",
        "    return x\n",
        "\n",
        "# Tensor Multiply.\n",
        "\n",
        "def tmultiply(x,y):\n",
        "    assert len(x.shape)\n",
        "    assert x.shape == y.shape\n",
        "\n",
        "    x = x.copy()\n",
        "\n",
        "    for i in range(x.shape[0]):\n",
        "        for j in range(x.shape[1]):\n",
        "            for q in range(x.shape[2]):\n",
        "                x[i,j,q] *= y[i,j,q]\n",
        "    return x\n",
        "\n",
        "def cvxcross(x,y):\n",
        "    # X is Matrix.\n",
        "    # Y is Vector.\n",
        "    # Ndim Comprasion Always Have to be Like That : X > Y.\n",
        "    # Vector values added seperately to each matrix columns.\n",
        "    assert len(x.shape) == 2\n",
        "    assert len(y.shape) == 1\n",
        "    assert x.shape[1] == y.shape[0]\n",
        "\n",
        "    x = x.copy()\n",
        "\n",
        "    for i in range(x.shape[0]):\n",
        "        for j in range(x.shape[1]):\n",
        "            x[i, j] *= y[j]\n",
        "    return x\n",
        "\n",
        "# Results\n",
        "\n",
        "print(f\"VX * VY\\n{xmultiply(vx,vy)}\\nNdim: {vx.ndim}\")\n",
        "print(f\"\\nMX * MY\\n{mmultiply(mx,my)}\\nNdim: {mx.ndim}\")\n",
        "print(f\"\\nTX * TY\\n{tmultiply(tx,ty)}\\nNdim: {tx.ndim}\")\n",
        "print(f\"\\nMX * VX\\n{cvxcross(mx,vx)}\")"
      ],
      "metadata": {
        "id": "DMg5xPKBRsTl"
      },
      "execution_count": null,
      "outputs": []
    },
    {
      "cell_type": "markdown",
      "source": [
        "# NumPy Maths: Division Operations"
      ],
      "metadata": {
        "id": "HE6lheooRaKe"
      }
    },
    {
      "cell_type": "code",
      "source": [
        "# Variables.\n",
        "\n",
        "vx = np.array([5,10,15,20,25])\n",
        "vy = np.array([1,2,3,4,5])\n",
        "mx = np.array([[5,10,15,20,25],[30,35,40,45,50]])\n",
        "my = np.array([[1,2,3,4,5],[6,7,8,9,10]])\n",
        "tx = np.array([[[5,10,15,20,25],[30,35,40,45,50]],[[-5,-10,-15,-20,-25],[-30,-35,-40,-45,-50]]])\n",
        "ty = np.array([[[1,2,3,4,5],[6,7,8,9,10]],[[-1,-2,-3,-4,-5],[-6,-7,-8,-9,-10]]])\n",
        "\n",
        "# Array Divide.\n",
        "\n",
        "def xdivide(x,y):\n",
        "    assert len(x.shape)\n",
        "    assert x.shape == y.shape\n",
        "\n",
        "    x = x.copy()\n",
        "\n",
        "    for i in range(x.shape[0]):\n",
        "        x[i] /= y[i]\n",
        "    return x\n",
        "\n",
        "# Matrix Divide.\n",
        "\n",
        "def mdivide(x,y):\n",
        "    assert len(x.shape)\n",
        "    assert x.shape == y.shape\n",
        "\n",
        "    x = x.copy()\n",
        "\n",
        "    for i in range(x.shape[0]):\n",
        "        for j in range(x.shape[1]):\n",
        "            x[i,j] /= y[i,j]\n",
        "    return x\n",
        "\n",
        "# Tensor Divide.\n",
        "\n",
        "def tdivide(x,y):\n",
        "    assert len(x.shape)\n",
        "    assert x.shape == y.shape\n",
        "\n",
        "    x = x.copy()\n",
        "\n",
        "    for i in range(x.shape[0]):\n",
        "        for j in range(x.shape[1]):\n",
        "            for q in range(x.shape[2]):\n",
        "                x[i,j,q] /= y[i,j,q]\n",
        "    return x\n",
        "\n",
        "def cvxcross(x,y):\n",
        "    # X is Matrix.\n",
        "    # Y is Vector.\n",
        "    # Ndim Comprasion Always Have to be Like That : X > Y.\n",
        "    # Vector values added seperately to each matrix columns.\n",
        "    assert len(x.shape) == 2\n",
        "    assert len(y.shape) == 1\n",
        "    assert x.shape[1] == y.shape[0]\n",
        "\n",
        "    x = x.copy()\n",
        "\n",
        "    for i in range(x.shape[0]):\n",
        "        for j in range(x.shape[1]):\n",
        "            x[i, j] /= y[j]\n",
        "    return x\n",
        "\n",
        "# Results\n",
        "\n",
        "print(f\"VX / VY\\n{xdivide(vx,vy)}\\nNdim: {vx.ndim}\")\n",
        "print(f\"\\nMX / MY\\n{mdivide(mx,my)}\\nNdim: {mx.ndim}\")\n",
        "print(f\"\\nTX / TY\\n{tdivide(tx,ty)}\\nNdim: {tx.ndim}\")\n",
        "print(f\"\\nMX / VX\\n{cvxcross(mx,vx)}\")"
      ],
      "metadata": {
        "id": "xIn60jfZReSj"
      },
      "execution_count": null,
      "outputs": []
    },
    {
      "cell_type": "markdown",
      "source": [
        "# Crossproduct Operations Using NumPy\n",
        "\n",
        "### Mathematical Proof is that:\n",
        "\n",
        "##### v1 = [3,2,2]\n",
        "##### v2 = [1,4,2]\n",
        "\n",
        "##### CROSS(v1,v2) = [(2x2-4x2), -(3x2-1x2), (3x4-1x2)]\n",
        "##### RESULT = [-4,-4,10]"
      ],
      "metadata": {
        "id": "PgVcmwrOQM9-"
      }
    },
    {
      "cell_type": "code",
      "source": [
        "import math\n",
        "\n",
        "v1 = np.array([3,2,2])\n",
        "v2 = np.array([1,4,2])\n",
        "\n",
        "def ParallelogramArea(a,b):\n",
        "    area = math.sqrt((a[1] * b[2] - b[1] * a[2]) ** 2 + (a[0] * b[2] - b[0] * a[2]) ** 2 + (a[0] * b[1] - b[0] * a[1]) ** 2)\n",
        "    return area\n",
        "\n",
        "print(f\"V1 to V2 Cross Product\\n{np.cross(v1,v2)}\")\n",
        "print(f\"\\nV2 to V1 Cross Product\\n{np.cross(v2,v1)}\")\n",
        "print(f\"\\nArea of Parallelogram Made by V1/V2 Vectors\\n{'%.2f' % ParallelogramArea(v1,v2)}\")"
      ],
      "metadata": {
        "colab": {
          "base_uri": "https://localhost:8080/"
        },
        "id": "Ig9eCIyDQPag",
        "outputId": "218449e5-b36c-4be1-ae82-28f64f711e6c"
      },
      "execution_count": 26,
      "outputs": [
        {
          "output_type": "stream",
          "name": "stdout",
          "text": [
            "V1 to V2 Cross Product\n",
            "[-4 -4 10]\n",
            "\n",
            "V2 to V1 Cross Product\n",
            "[  4   4 -10]\n",
            "\n",
            "Area of Parallelogram Made by V1/V2 Vectors\n",
            "11.49\n"
          ]
        }
      ]
    }
  ]
}