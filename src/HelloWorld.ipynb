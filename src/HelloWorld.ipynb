{
  "nbformat": 4,
  "nbformat_minor": 0,
  "metadata": {
    "colab": {
      "name": "IntroductionToThePython.ipynb",
      "provenance": [],
      "collapsed_sections": []
    },
    "kernelspec": {
      "name": "python3",
      "display_name": "Python 3"
    },
    "language_info": {
      "name": "python"
    }
  },
  "cells": [
    {
      "cell_type": "markdown",
      "source": [
        "# Introduction to the Language\n",
        "##### Section 1"
      ],
      "metadata": {
        "id": "fWYQzl4btYpx"
      }
    },
    {
      "cell_type": "markdown",
      "source": [
        "### Episode 1: Hello World\n",
        "Print allows the parameter sent into the function to be printed on the screen."
      ],
      "metadata": {
        "id": "LX6auorNtKdx"
      }
    },
    {
      "cell_type": "code",
      "execution_count": 4,
      "metadata": {
        "colab": {
          "base_uri": "https://localhost:8080/"
        },
        "id": "kXM0ZuPZtC-6",
        "outputId": "f8182131-606f-4f03-f1ff-dd2ca5a26c30"
      },
      "outputs": [
        {
          "output_type": "stream",
          "name": "stdout",
          "text": [
            "Hello, World!\n"
          ]
        }
      ],
      "source": [
        "print('Hello, World!')"
      ]
    },
    {
      "cell_type": "markdown",
      "source": [
        "Also you can use print function with given variable. Also we declared example of comment rows."
      ],
      "metadata": {
        "id": "nEnaR0b6trwv"
      }
    },
    {
      "cell_type": "code",
      "source": [
        "# Comment row No.1 Example.\n",
        "\n",
        "\"\"\"\n",
        "Comment row No.2 Example.\n",
        "\"\"\"\n",
        "\n",
        "var_name = 'Yarkın'\n",
        "print(var_name)"
      ],
      "metadata": {
        "colab": {
          "base_uri": "https://localhost:8080/"
        },
        "id": "VovG63J3twQo",
        "outputId": "a4131930-eaa3-432e-b053-133b6b714118"
      },
      "execution_count": 3,
      "outputs": [
        {
          "output_type": "stream",
          "name": "stdout",
          "text": [
            "Yarkın\n"
          ]
        }
      ]
    },
    {
      "cell_type": "markdown",
      "source": [
        "### Episode 2: Variable Decleration and Data Types"
      ],
      "metadata": {
        "id": "_tUem6X1uLVl"
      }
    },
    {
      "cell_type": "markdown",
      "source": [
        "> Python has full of advantages, one of them is variable declerations. You have no limits or rules while declaring the variables.\n",
        "\n",
        "> Also we have 4 types of data types: as you see in code, in order integer, float, string, boolean.\n",
        "\n",
        "> Variable declaring rules: Must start with a lowercase letter, variables first letter should start with ASCII characters, also, first letter should not start with a number.\n",
        "\n",
        "> Also you can switch and convert variables as you see below."
      ],
      "metadata": {
        "id": "W76RPCwJuP3c"
      }
    },
    {
      "cell_type": "code",
      "source": [
        "x = 4\n",
        "y = 2.0\n",
        "z = \"Hello, World!\"\n",
        "f = False\n",
        "\n",
        "print(x,y,z,f)\n",
        "\n",
        "x,y = y,x\n",
        "print(x,y)\n",
        "\n",
        "x = int(x)\n",
        "y = float(y)\n",
        "\n",
        "print(x,y)"
      ],
      "metadata": {
        "colab": {
          "base_uri": "https://localhost:8080/"
        },
        "id": "PfSKajcvvyko",
        "outputId": "69e385eb-4b00-4100-b0cf-7a167ad2cf42"
      },
      "execution_count": 12,
      "outputs": [
        {
          "output_type": "stream",
          "name": "stdout",
          "text": [
            "4 2.0 Hello, World! False\n",
            "2.0 4\n",
            "2 4.0\n"
          ]
        }
      ]
    },
    {
      "cell_type": "markdown",
      "source": [
        "> Also we can use builtin functions to access easily what we want. We are going to take a point on print, len, abs and input builtin functions."
      ],
      "metadata": {
        "id": "8xPYkvc_xn7U"
      }
    },
    {
      "cell_type": "code",
      "source": [
        "print('Prints to the screen.')\n",
        "\n",
        "var_len = len('chararray.')\n",
        "print(var_len)\n",
        "\n",
        "var_abs = abs(1-9)\n",
        "print(var_abs)\n",
        "\n",
        "var_name = input('Insert your name here: ')\n",
        "var_age = int(input('Insert your age here: '))\n",
        "print(var_name,var_age)"
      ],
      "metadata": {
        "colab": {
          "base_uri": "https://localhost:8080/"
        },
        "id": "P7mJndIQyILU",
        "outputId": "20d6d14c-898e-4ab5-9b7c-fe9e859fafac"
      },
      "execution_count": 13,
      "outputs": [
        {
          "output_type": "stream",
          "name": "stdout",
          "text": [
            "Prints to the screen.\n",
            "10\n",
            "8\n",
            "Insert your name here: Yarkın\n",
            "Insert your age here: 19\n",
            "Yarkın 19\n"
          ]
        }
      ]
    },
    {
      "cell_type": "markdown",
      "source": [
        "### Episode 3: String Formatting and String Manipulating"
      ],
      "metadata": {
        "id": "KGTYZkFCzARs"
      }
    },
    {
      "cell_type": "markdown",
      "source": [
        "> String manipulating and formatting codes will be shown below. There are four ways to format a text."
      ],
      "metadata": {
        "id": "oexWdXNozFcQ"
      }
    },
    {
      "cell_type": "code",
      "source": [
        "name = 'Yarkın'\n",
        "age = 19\n",
        "\n",
        "text0 = 'My name is' + ' ' + name + ' ' + 'and I am' + ' ' + str(age) + ' ' + 'years old.'\n",
        "print(text0)\n",
        "\n",
        "text1 = \"My name is {} and I'm {} years old.\".format(name, age)\n",
        "print(text1)\n",
        "\n",
        "text2 = \"My name is {1} and I'm {0} years old.\".format(age, name)\n",
        "print(text2)\n",
        "\n",
        "text3 = f\"My name is {name} and I'm {age} years old.\"\n",
        "print(text3)"
      ],
      "metadata": {
        "colab": {
          "base_uri": "https://localhost:8080/"
        },
        "id": "LCno1j3rzJWe",
        "outputId": "5bc992bc-b525-4764-fe31-bd4656a54026"
      },
      "execution_count": 17,
      "outputs": [
        {
          "output_type": "stream",
          "name": "stdout",
          "text": [
            "My name is Yarkın and I am 19 years old.\n",
            "My name is Yarkın and I'm 19 years old.\n",
            "My name is Yarkın and I'm 19 years old.\n",
            "My name is Yarkın and I'm 19 years old.\n"
          ]
        }
      ]
    },
    {
      "cell_type": "markdown",
      "source": [
        "> text.upper(): Converts all characters to uppercase.\n",
        "\n",
        "> text.lower(): Converts all characters to lowercase.\n",
        "\n",
        "> text.capitalize(): Capitalizes only the first letter of the first word. If any of the other words in the sentence begin with a capital letter, it makes it smaller.\n",
        "\n",
        "> text.title(): Capitalize but affects every word, uppercase doesn't make lowercase.\n",
        "\n",
        "> text.strip(): Eliminates leading spaces in a string expression.\n",
        "\n",
        "> text.split(): Splits the string expression into words. \n",
        "\n",
        "> text.split(): It separates the string expression according to the parameter we give it.\n",
        "\n",
        "> text.replace(new, old)\n",
        "\n",
        "> text.replace(' ', ''): Removes all spaces from the string expression.\n",
        "\n",
        "> text.startswith(): A question is asked about how the text starts.\n",
        "\n",
        "> text.endswith(): A question is asked about what texting ends with."
      ],
      "metadata": {
        "id": "FmG_PNmE1EWG"
      }
    },
    {
      "cell_type": "code",
      "source": [
        "text = 'Formula One is one of the greatest sports has invented.'\n",
        "\n",
        "result = text.upper()\n",
        "result = text.lower()\n",
        "result = text.capitalize() \n",
        "result = text.title()\n",
        "result = text.strip()\n",
        "result = text.split()\n",
        "result = text.split('s')\n",
        "result = text.replace('greatest', 'fascinating')\n",
        "result = text.replace(' ', '')\n",
        "result = text.startswith('p')\n",
        "result = text.endswith('m')\n",
        "\n",
        "result"
      ],
      "metadata": {
        "colab": {
          "base_uri": "https://localhost:8080/"
        },
        "id": "92_ztZqo0kbQ",
        "outputId": "89f3c34d-db24-4a6a-9f1b-75e8fc970d91"
      },
      "execution_count": 22,
      "outputs": [
        {
          "output_type": "execute_result",
          "data": {
            "text/plain": [
              "False"
            ]
          },
          "metadata": {},
          "execution_count": 22
        }
      ]
    },
    {
      "cell_type": "markdown",
      "source": [
        "### Episode 4: Lists, Tuples, Sets and Dictionaries"
      ],
      "metadata": {
        "id": "cLdGZccT2Qsn"
      }
    },
    {
      "cell_type": "markdown",
      "source": [
        "Part of lists, and how we are going to declare them. Also how we are going to use them?"
      ],
      "metadata": {
        "id": "X07c6w1a2Un2"
      }
    },
    {
      "cell_type": "code",
      "source": [
        "element = 'AlphaTauri'\n",
        "list_0 = ['Ferrari','Red Bull','Mercedes']\n",
        "list_1 = ['Hass','Alpine','Alfa Romeo']\n",
        "list_2 = ['Aston Martin','McLaren','Williams']\n",
        "\n",
        "print(element,list_0,list_1,list_2)"
      ],
      "metadata": {
        "colab": {
          "base_uri": "https://localhost:8080/"
        },
        "id": "jnCb1QYX2dXk",
        "outputId": "f9c9a54c-9e0c-499e-d1fc-283b8ea5d02e"
      },
      "execution_count": 34,
      "outputs": [
        {
          "output_type": "stream",
          "name": "stdout",
          "text": [
            "AlphaTauri ['Ferrari', 'Red Bull', 'Mercedes'] ['Hass', 'Alpine', 'Alfa Romeo'] ['Aston Martin', 'McLaren', 'Williams']\n"
          ]
        }
      ]
    },
    {
      "cell_type": "markdown",
      "source": [
        "Let's see the list methods like string methods.\n",
        "\n",
        "> append(): Adds an element to the end of the list.\n",
        "\n",
        "> insert(): Adds an element to specified position of the list.\n",
        "\n",
        "> pop(): It is given the index number of any element in the list.\n",
        "\n",
        "> remove(): Gives itself any element in the list.\n",
        "\n",
        "> reverse(): Inverts the list.\n",
        "\n",
        "> sort(): Sorts in ascending order."
      ],
      "metadata": {
        "id": "HehHzAO-21ID"
      }
    },
    {
      "cell_type": "code",
      "source": [
        "list_0.append('Racing Point')\n",
        "list_1.insert(0, 'Red Bull Racing')\n",
        "list_1.pop(0)\n",
        "list_0.remove('Racing Point')\n",
        "list_2.reverse() \n",
        "list_2.sort()\n",
        "index_number = list_2.index('Aston Martin')\n",
        "\n",
        "print(f\"Aston Martin's index number is: {index_number}\")"
      ],
      "metadata": {
        "colab": {
          "base_uri": "https://localhost:8080/"
        },
        "id": "91JKBwoS23SW",
        "outputId": "c5d1e000-f81a-41a0-c841-7ad6adb71ae8"
      },
      "execution_count": 35,
      "outputs": [
        {
          "output_type": "stream",
          "name": "stdout",
          "text": [
            "Aston Martin's index number is: 0\n"
          ]
        }
      ]
    },
    {
      "cell_type": "markdown",
      "source": [
        "Let's see the tuple lists also."
      ],
      "metadata": {
        "id": "cQN26lSw3-5G"
      }
    },
    {
      "cell_type": "code",
      "source": [
        "tuple_1 = ('Toto','Christian','Zak')\n",
        "index = tuple_1.index('Toto')\n",
        "print(index)"
      ],
      "metadata": {
        "colab": {
          "base_uri": "https://localhost:8080/"
        },
        "id": "unklBECR4A-A",
        "outputId": "07a0e8a3-022b-4a8b-ccc5-b5cc78cc7b13"
      },
      "execution_count": 36,
      "outputs": [
        {
          "output_type": "stream",
          "name": "stdout",
          "text": [
            "0\n"
          ]
        }
      ]
    },
    {
      "cell_type": "markdown",
      "source": [
        "Type conversions between tuple and list. Notice that you can turn tuple into a list but you cannot turn tuple into a list."
      ],
      "metadata": {
        "id": "Nyc-R4j84JKj"
      }
    },
    {
      "cell_type": "code",
      "source": [
        "tuple_1 = list(tuple_1)\n",
        "print(tuple_1)"
      ],
      "metadata": {
        "colab": {
          "base_uri": "https://localhost:8080/"
        },
        "id": "MM8XgG6I4ONa",
        "outputId": "1d14fee0-8bc4-4876-e93b-73571032846e"
      },
      "execution_count": 39,
      "outputs": [
        {
          "output_type": "stream",
          "name": "stdout",
          "text": [
            "['Toto', 'Christian', 'Zak']\n"
          ]
        }
      ]
    },
    {
      "cell_type": "markdown",
      "source": [
        "Also we need to notice set's, so what is sets? Basically sets are clusters."
      ],
      "metadata": {
        "id": "QqCfSgxD5VTW"
      }
    },
    {
      "cell_type": "code",
      "source": [
        "a = {1,3,5,7,9,11}\n",
        "b = {1,3,6,9,12}\n",
        "\n",
        "# Combination Set\n",
        "result = a | b\n",
        "# Intersection Set\n",
        "result = a & b \n",
        "# Difference Set\n",
        "result = a - b\n",
        "print(result)\n",
        "\n",
        "\"\"\"\n",
        "So we can remove duplicates from the list using set's,\n",
        "cause as you know set's not allows duplicate values in it.\n",
        "\"\"\"\n",
        "\n",
        "liste = [1, 2, 2, 3, 3, 3]\n",
        "liste = set(liste)\n",
        "liste = list(liste)\n",
        "print(liste)"
      ],
      "metadata": {
        "colab": {
          "base_uri": "https://localhost:8080/"
        },
        "id": "9VbBpLSC5Ypo",
        "outputId": "5cec4e20-3df6-4016-f94c-4057be8e4231"
      },
      "execution_count": 42,
      "outputs": [
        {
          "output_type": "stream",
          "name": "stdout",
          "text": [
            "{11, 5, 7}\n",
            "[1, 2, 3]\n"
          ]
        }
      ]
    },
    {
      "cell_type": "markdown",
      "source": [
        "For the last part of the notebook, we shall see the dictionaries."
      ],
      "metadata": {
        "id": "avmYSNuP5yYR"
      }
    },
    {
      "cell_type": "code",
      "source": [
        "person_0 = {\n",
        "    \"Name\" : \"Emir Yarkın\",\n",
        "    \"Age\" : 18,\n",
        "    \"Title\" : \"Student\"\n",
        "}\n",
        "\n",
        "# Reaching the value using a specific key.\n",
        "result = person_0[\"Name\"]\n",
        "# We can also update a dictionary using this.\n",
        "person_0[\"Name\"] = \"Elon Musk\"\n",
        "# We can also delete a section of keys.\n",
        "del person_0[\"Age\"]\n",
        "# We may get all the values using this.\n",
        "result = person_0.values()\n",
        "# Ereases the whole dataset.\n",
        "person_0.clear()\n",
        "print(person_0)\n",
        "\n",
        "person_1 = {\n",
        "    1000 : {\n",
        "        \"Name\" : \"Jeff Bezos\",\n",
        "        \"Age\" : 57,\n",
        "        \"Title\" : \"Amazon.com Founder\"\n",
        "    },\n",
        "    1001 : {\n",
        "        \"Name\" : \"Elon Musk\",\n",
        "        \"Age\" : 49,\n",
        "        \"Title\" : \"SpaceX Founder\"\n",
        "    }\n",
        "}\n",
        "\n",
        "id= 1001\n",
        "# In this kind multidictionaries, you should reach the id first.\n",
        "result = person_1[id][\"Name\"]\n",
        "print(result)"
      ],
      "metadata": {
        "colab": {
          "base_uri": "https://localhost:8080/"
        },
        "id": "PSz9GXGl52Wi",
        "outputId": "301ba865-4849-4294-d0f6-d1acd5bd2fd8"
      },
      "execution_count": 43,
      "outputs": [
        {
          "output_type": "stream",
          "name": "stdout",
          "text": [
            "{}\n",
            "Elon Musk\n"
          ]
        }
      ]
    }
  ]
}