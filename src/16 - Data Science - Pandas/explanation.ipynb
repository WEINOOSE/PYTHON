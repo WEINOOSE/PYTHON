{
 "cells": [
  {
   "cell_type": "code",
   "execution_count": 1,
   "metadata": {
    "_cell_guid": "b1076dfc-b9ad-4769-8c92-a6c4dae69d19",
    "_uuid": "8f2839f25d086af736a60e9eeb907d3b93b6e0e5",
    "execution": {
     "iopub.execute_input": "2020-10-31T19:27:47.937830Z",
     "iopub.status.busy": "2020-10-31T19:27:47.935217Z",
     "iopub.status.idle": "2020-10-31T19:27:47.942852Z",
     "shell.execute_reply": "2020-10-31T19:27:47.942001Z"
    },
    "papermill": {
     "duration": 0.039106,
     "end_time": "2020-10-31T19:27:47.942987",
     "exception": false,
     "start_time": "2020-10-31T19:27:47.903881",
     "status": "completed"
    },
    "tags": []
   },
   "outputs": [
    {
     "name": "stdout",
     "output_type": "stream",
     "text": [
      "    NAME  AGE  MAAS\n",
      "0    ali   15   100\n",
      "1   veli   16   150\n",
      "2  kenan   17   240\n",
      "3  hilal   33   350\n",
      "4   ayse   45   110\n"
     ]
    }
   ],
   "source": [
    "import pandas as pd\n",
    "dictionary = {\"NAME\":[\"ali\",\"veli\",\"kenan\",\"hilal\",\"ayse\",\"evren\"],\n",
    "              \"AGE\":[15,16,17,33,45,66],\n",
    "              \"MAAS\": [100,150,240,350,110,220]}\n",
    "\n",
    "df = pd.DataFrame(dictionary)\n",
    "head = df.head()\n",
    "tail = df.tail()\n",
    "print(head)"
   ]
  },
  {
   "cell_type": "code",
   "execution_count": 2,
   "metadata": {
    "_cell_guid": "79c7e3d0-c299-4dcb-8224-4455121ee9b0",
    "_uuid": "d629ff2d2480ee46fbb7e2d37f6b5fab8052498a",
    "execution": {
     "iopub.execute_input": "2020-10-31T19:27:47.985449Z",
     "iopub.status.busy": "2020-10-31T19:27:47.984110Z",
     "iopub.status.idle": "2020-10-31T19:27:47.999232Z",
     "shell.execute_reply": "2020-10-31T19:27:47.999809Z"
    },
    "papermill": {
     "duration": 0.045996,
     "end_time": "2020-10-31T19:27:47.999990",
     "exception": false,
     "start_time": "2020-10-31T19:27:47.953994",
     "status": "completed"
    },
    "tags": []
   },
   "outputs": [
    {
     "name": "stdout",
     "output_type": "stream",
     "text": [
      "Index(['NAME', 'AGE', 'MAAS'], dtype='object')\n",
      "<class 'pandas.core.frame.DataFrame'>\n",
      "RangeIndex: 6 entries, 0 to 5\n",
      "Data columns (total 3 columns):\n",
      " #   Column  Non-Null Count  Dtype \n",
      "---  ------  --------------  ----- \n",
      " 0   NAME    6 non-null      object\n",
      " 1   AGE     6 non-null      int64 \n",
      " 2   MAAS    6 non-null      int64 \n",
      "dtypes: int64(2), object(1)\n",
      "memory usage: 272.0+ bytes\n",
      "None\n",
      "NAME    object\n",
      "AGE      int64\n",
      "MAAS     int64\n",
      "dtype: object\n",
      "             AGE        MAAS\n",
      "count   6.000000    6.000000\n",
      "mean   32.000000  195.000000\n",
      "std    20.474374   94.815611\n",
      "min    15.000000  100.000000\n",
      "25%    16.250000  120.000000\n",
      "50%    25.000000  185.000000\n",
      "75%    42.000000  235.000000\n",
      "max    66.000000  350.000000\n"
     ]
    }
   ],
   "source": [
    "print(df.columns)\n",
    "print(df.info())\n",
    "print(df.dtypes)\n",
    "print(df.describe())  # numeric feature = columns (age,maas)"
   ]
  },
  {
   "cell_type": "code",
   "execution_count": 3,
   "metadata": {
    "execution": {
     "iopub.execute_input": "2020-10-31T19:27:48.028076Z",
     "iopub.status.busy": "2020-10-31T19:27:48.027102Z",
     "iopub.status.idle": "2020-10-31T19:27:48.030610Z",
     "shell.execute_reply": "2020-10-31T19:27:48.031364Z"
    },
    "papermill": {
     "duration": 0.021125,
     "end_time": "2020-10-31T19:27:48.031532",
     "exception": false,
     "start_time": "2020-10-31T19:27:48.010407",
     "status": "completed"
    },
    "tags": []
   },
   "outputs": [
    {
     "name": "stdout",
     "output_type": "stream",
     "text": [
      "0    15\n",
      "1    16\n",
      "2    17\n",
      "3    33\n",
      "4    45\n",
      "5    66\n",
      "Name: AGE, dtype: int64\n",
      "0    15\n",
      "1    16\n",
      "2    17\n",
      "3    33\n",
      "4    45\n",
      "5    66\n",
      "Name: AGE, dtype: int64\n"
     ]
    }
   ],
   "source": [
    "print(df[\"AGE\"])\n",
    "print(df.AGE)"
   ]
  },
  {
   "cell_type": "code",
   "execution_count": 4,
   "metadata": {
    "execution": {
     "iopub.execute_input": "2020-10-31T19:27:48.062902Z",
     "iopub.status.busy": "2020-10-31T19:27:48.061787Z",
     "iopub.status.idle": "2020-10-31T19:27:48.065678Z",
     "shell.execute_reply": "2020-10-31T19:27:48.065053Z"
    },
    "papermill": {
     "duration": 0.023465,
     "end_time": "2020-10-31T19:27:48.065811",
     "exception": false,
     "start_time": "2020-10-31T19:27:48.042346",
     "status": "completed"
    },
    "tags": []
   },
   "outputs": [],
   "source": [
    "df[\"yeni feature\"] = [-1,-2,-3,-4,-5,-6]"
   ]
  },
  {
   "cell_type": "code",
   "execution_count": 5,
   "metadata": {
    "execution": {
     "iopub.execute_input": "2020-10-31T19:27:48.108308Z",
     "iopub.status.busy": "2020-10-31T19:27:48.102820Z",
     "iopub.status.idle": "2020-10-31T19:27:48.117306Z",
     "shell.execute_reply": "2020-10-31T19:27:48.116394Z"
    },
    "papermill": {
     "duration": 0.040499,
     "end_time": "2020-10-31T19:27:48.117453",
     "exception": false,
     "start_time": "2020-10-31T19:27:48.076954",
     "status": "completed"
    },
    "tags": []
   },
   "outputs": [
    {
     "name": "stdout",
     "output_type": "stream",
     "text": [
      "0    15\n",
      "1    16\n",
      "2    17\n",
      "3    33\n",
      "4    45\n",
      "5    66\n",
      "Name: AGE, dtype: int64\n",
      "0    15\n",
      "1    16\n",
      "2    17\n",
      "3    33\n",
      "Name: AGE, dtype: int64\n",
      "Empty DataFrame\n",
      "Columns: []\n",
      "Index: [0, 1, 2, 3]\n",
      "   AGE   NAME\n",
      "0   15    ali\n",
      "1   16   veli\n",
      "2   17  kenan\n",
      "3   33  hilal\n",
      "    NAME  AGE  MAAS  yeni feature\n",
      "5  evren   66   220            -6\n",
      "4   ayse   45   110            -5\n",
      "3  hilal   33   350            -4\n",
      "2  kenan   17   240            -3\n",
      "1   veli   16   150            -2\n",
      "0    ali   15   100            -1\n",
      "    NAME\n",
      "0    ali\n",
      "1   veli\n",
      "2  kenan\n",
      "3  hilal\n",
      "4   ayse\n",
      "5  evren\n",
      "0      ali\n",
      "1     veli\n",
      "2    kenan\n",
      "3    hilal\n",
      "4     ayse\n",
      "5    evren\n",
      "Name: NAME, dtype: object\n",
      "0    100\n",
      "1    150\n",
      "2    240\n",
      "3    350\n",
      "4    110\n",
      "5    220\n",
      "Name: MAAS, dtype: int64\n"
     ]
    }
   ],
   "source": [
    "print(df.loc[:, \"AGE\"])\n",
    "print(df.loc[:3, \"AGE\"])\n",
    "print(df.loc[:3, \"AGE\":\"NAME\"])\n",
    "print(df.loc[:3, [\"AGE\",\"NAME\"]])\n",
    "print(df.loc[::-1,:])\n",
    "print(df.loc[:,:\"NAME\"])\n",
    "print(df.loc[:,\"NAME\"])\n",
    "print(df.iloc[:,2])"
   ]
  },
  {
   "cell_type": "code",
   "execution_count": 6,
   "metadata": {
    "execution": {
     "iopub.execute_input": "2020-10-31T19:27:48.150633Z",
     "iopub.status.busy": "2020-10-31T19:27:48.149674Z",
     "iopub.status.idle": "2020-10-31T19:27:48.183303Z",
     "shell.execute_reply": "2020-10-31T19:27:48.182523Z"
    },
    "papermill": {
     "duration": 0.05179,
     "end_time": "2020-10-31T19:27:48.183429",
     "exception": false,
     "start_time": "2020-10-31T19:27:48.131639",
     "status": "completed"
    },
    "tags": []
   },
   "outputs": [
    {
     "name": "stdout",
     "output_type": "stream",
     "text": [
      "    NAME  AGE  MAAS  yeni feature\n",
      "5  evren   66   220            -6\n"
     ]
    }
   ],
   "source": [
    "filtre1 = df.MAAS > 200\n",
    "filtrelenmis_data = df[filtre1]\n",
    "filtre2 = df.AGE <20\n",
    "df[filtre1 & filtre2]\n",
    "print(df[df.AGE > 60])"
   ]
  },
  {
   "cell_type": "code",
   "execution_count": 7,
   "metadata": {
    "execution": {
     "iopub.execute_input": "2020-10-31T19:27:48.221517Z",
     "iopub.status.busy": "2020-10-31T19:27:48.220723Z",
     "iopub.status.idle": "2020-10-31T19:27:48.234398Z",
     "shell.execute_reply": "2020-10-31T19:27:48.233562Z"
    },
    "papermill": {
     "duration": 0.038812,
     "end_time": "2020-10-31T19:27:48.234529",
     "exception": false,
     "start_time": "2020-10-31T19:27:48.195717",
     "status": "completed"
    },
    "tags": []
   },
   "outputs": [
    {
     "data": {
      "text/html": [
       "<div>\n",
       "<style scoped>\n",
       "    .dataframe tbody tr th:only-of-type {\n",
       "        vertical-align: middle;\n",
       "    }\n",
       "\n",
       "    .dataframe tbody tr th {\n",
       "        vertical-align: top;\n",
       "    }\n",
       "\n",
       "    .dataframe thead th {\n",
       "        text-align: right;\n",
       "    }\n",
       "</style>\n",
       "<table border=\"1\" class=\"dataframe\">\n",
       "  <thead>\n",
       "    <tr style=\"text-align: right;\">\n",
       "      <th></th>\n",
       "      <th>NAME</th>\n",
       "      <th>AGE</th>\n",
       "      <th>MAAS</th>\n",
       "      <th>yeni feature</th>\n",
       "      <th>maas_seviyesi</th>\n",
       "    </tr>\n",
       "  </thead>\n",
       "  <tbody>\n",
       "    <tr>\n",
       "      <th>0</th>\n",
       "      <td>ali</td>\n",
       "      <td>15</td>\n",
       "      <td>100</td>\n",
       "      <td>-1</td>\n",
       "      <td>dusuk</td>\n",
       "    </tr>\n",
       "    <tr>\n",
       "      <th>1</th>\n",
       "      <td>veli</td>\n",
       "      <td>16</td>\n",
       "      <td>150</td>\n",
       "      <td>-2</td>\n",
       "      <td>dusuk</td>\n",
       "    </tr>\n",
       "    <tr>\n",
       "      <th>2</th>\n",
       "      <td>kenan</td>\n",
       "      <td>17</td>\n",
       "      <td>240</td>\n",
       "      <td>-3</td>\n",
       "      <td>yuksek</td>\n",
       "    </tr>\n",
       "    <tr>\n",
       "      <th>3</th>\n",
       "      <td>hilal</td>\n",
       "      <td>33</td>\n",
       "      <td>350</td>\n",
       "      <td>-4</td>\n",
       "      <td>yuksek</td>\n",
       "    </tr>\n",
       "    <tr>\n",
       "      <th>4</th>\n",
       "      <td>ayse</td>\n",
       "      <td>45</td>\n",
       "      <td>110</td>\n",
       "      <td>-5</td>\n",
       "      <td>dusuk</td>\n",
       "    </tr>\n",
       "    <tr>\n",
       "      <th>5</th>\n",
       "      <td>evren</td>\n",
       "      <td>66</td>\n",
       "      <td>220</td>\n",
       "      <td>-6</td>\n",
       "      <td>yuksek</td>\n",
       "    </tr>\n",
       "  </tbody>\n",
       "</table>\n",
       "</div>"
      ],
      "text/plain": [
       "    NAME  AGE  MAAS  yeni feature maas_seviyesi\n",
       "0    ali   15   100            -1         dusuk\n",
       "1   veli   16   150            -2         dusuk\n",
       "2  kenan   17   240            -3        yuksek\n",
       "3  hilal   33   350            -4        yuksek\n",
       "4   ayse   45   110            -5         dusuk\n",
       "5  evren   66   220            -6        yuksek"
      ]
     },
     "execution_count": 7,
     "metadata": {},
     "output_type": "execute_result"
    }
   ],
   "source": [
    "import numpy as np\n",
    "\n",
    "ortalama_maas = df.MAAS.mean()\n",
    "# ortalama_maas_np = np.mean(dataFrame1.MAAS)\n",
    "df[\"maas_seviyesi\"] = [\"dusuk\" if ortalama_maas > each else \"yuksek\" for each in df.MAAS]\n",
    "df"
   ]
  },
  {
   "cell_type": "code",
   "execution_count": 8,
   "metadata": {
    "execution": {
     "iopub.execute_input": "2020-10-31T19:27:48.270007Z",
     "iopub.status.busy": "2020-10-31T19:27:48.269236Z",
     "iopub.status.idle": "2020-10-31T19:27:48.303779Z",
     "shell.execute_reply": "2020-10-31T19:27:48.304426Z"
    },
    "papermill": {
     "duration": 0.05703,
     "end_time": "2020-10-31T19:27:48.304602",
     "exception": false,
     "start_time": "2020-10-31T19:27:48.247572",
     "status": "completed"
    },
    "tags": []
   },
   "outputs": [
    {
     "ename": "NameError",
     "evalue": "name 'dataFrame1' is not defined",
     "output_type": "error",
     "traceback": [
      "\u001b[0;31m---------------------------------------------------------------------------\u001b[0m",
      "\u001b[0;31mNameError\u001b[0m                                 Traceback (most recent call last)",
      "\u001b[0;32m<ipython-input-8-cd3c596a6776>\u001b[0m in \u001b[0;36m<module>\u001b[0;34m\u001b[0m\n\u001b[0;32m----> 1\u001b[0;31m \u001b[0mdataFrame1\u001b[0m\u001b[0;34m.\u001b[0m\u001b[0mdrop\u001b[0m\u001b[0;34m(\u001b[0m\u001b[0;34m[\u001b[0m\u001b[0;34m\"yeni_feature\"\u001b[0m\u001b[0;34m]\u001b[0m\u001b[0;34m,\u001b[0m\u001b[0maxis\u001b[0m\u001b[0;34m=\u001b[0m\u001b[0;36m1\u001b[0m\u001b[0;34m,\u001b[0m\u001b[0minplace\u001b[0m \u001b[0;34m=\u001b[0m \u001b[0;32mTrue\u001b[0m\u001b[0;34m)\u001b[0m\u001b[0;34m\u001b[0m\u001b[0;34m\u001b[0m\u001b[0m\n\u001b[0m\u001b[1;32m      2\u001b[0m \u001b[0mdata1\u001b[0m \u001b[0;34m=\u001b[0m \u001b[0mdataFrame1\u001b[0m\u001b[0;34m.\u001b[0m\u001b[0mhead\u001b[0m\u001b[0;34m(\u001b[0m\u001b[0;34m)\u001b[0m\u001b[0;34m\u001b[0m\u001b[0;34m\u001b[0m\u001b[0m\n\u001b[1;32m      3\u001b[0m \u001b[0mdata2\u001b[0m \u001b[0;34m=\u001b[0m \u001b[0mdataFrame1\u001b[0m\u001b[0;34m.\u001b[0m\u001b[0mtail\u001b[0m\u001b[0;34m(\u001b[0m\u001b[0;34m)\u001b[0m\u001b[0;34m\u001b[0m\u001b[0;34m\u001b[0m\u001b[0m\n\u001b[1;32m      4\u001b[0m \u001b[0;34m\u001b[0m\u001b[0m\n\u001b[1;32m      5\u001b[0m \u001b[0mdata_concat\u001b[0m \u001b[0;34m=\u001b[0m \u001b[0mpd\u001b[0m\u001b[0;34m.\u001b[0m\u001b[0mconcat\u001b[0m\u001b[0;34m(\u001b[0m\u001b[0;34m[\u001b[0m\u001b[0mdata1\u001b[0m\u001b[0;34m,\u001b[0m\u001b[0mdata2\u001b[0m\u001b[0;34m]\u001b[0m\u001b[0;34m,\u001b[0m\u001b[0maxis\u001b[0m\u001b[0;34m=\u001b[0m\u001b[0;36m0\u001b[0m\u001b[0;34m)\u001b[0m\u001b[0;31m# vertical\u001b[0m\u001b[0;34m\u001b[0m\u001b[0;34m\u001b[0m\u001b[0m\n",
      "\u001b[0;31mNameError\u001b[0m: name 'dataFrame1' is not defined"
     ]
    }
   ],
   "source": [
    "dataFrame1.drop([\"yeni_feature\"],axis=1,inplace = True)\n",
    "data1 = dataFrame1.head()\n",
    "data2 = dataFrame1.tail()\n",
    "\n",
    "data_concat = pd.concat([data1,data2],axis=0)# vertical"
   ]
  },
  {
   "cell_type": "code",
   "execution_count": 9,
   "metadata": {
    "execution": {
     "iopub.execute_input": "2020-10-31T19:27:48.347647Z",
     "iopub.status.busy": "2020-10-31T19:27:48.346505Z",
     "iopub.status.idle": "2020-10-31T19:27:48.351504Z",
     "shell.execute_reply": "2020-10-31T19:27:48.350868Z"
    },
    "papermill": {
     "duration": 0.033162,
     "end_time": "2020-10-31T19:27:48.351634",
     "exception": false,
     "start_time": "2020-10-31T19:27:48.318472",
     "status": "completed"
    },
    "tags": []
   },
   "outputs": [
    {
     "ename": "NameError",
     "evalue": "name 'dataFrame1' is not defined",
     "output_type": "error",
     "traceback": [
      "\u001b[0;31m---------------------------------------------------------------------------\u001b[0m",
      "\u001b[0;31mNameError\u001b[0m                                 Traceback (most recent call last)",
      "\u001b[0;32m<ipython-input-9-699f4b59af23>\u001b[0m in \u001b[0;36m<module>\u001b[0;34m\u001b[0m\n\u001b[0;32m----> 1\u001b[0;31m \u001b[0mmaas\u001b[0m \u001b[0;34m=\u001b[0m \u001b[0mdataFrame1\u001b[0m\u001b[0;34m.\u001b[0m\u001b[0mmaas\u001b[0m\u001b[0;34m\u001b[0m\u001b[0;34m\u001b[0m\u001b[0m\n\u001b[0m\u001b[1;32m      2\u001b[0m \u001b[0mage\u001b[0m \u001b[0;34m=\u001b[0m \u001b[0mdataFrame1\u001b[0m\u001b[0;34m.\u001b[0m\u001b[0mage\u001b[0m\u001b[0;34m\u001b[0m\u001b[0;34m\u001b[0m\u001b[0m\n\u001b[1;32m      3\u001b[0m \u001b[0;34m\u001b[0m\u001b[0m\n\u001b[1;32m      4\u001b[0m \u001b[0mdata_h_concat\u001b[0m \u001b[0;34m=\u001b[0m \u001b[0mpd\u001b[0m\u001b[0;34m.\u001b[0m\u001b[0mconcat\u001b[0m\u001b[0;34m(\u001b[0m\u001b[0;34m[\u001b[0m\u001b[0mmaas\u001b[0m\u001b[0;34m,\u001b[0m\u001b[0mage\u001b[0m\u001b[0;34m]\u001b[0m\u001b[0;34m,\u001b[0m\u001b[0maxis\u001b[0m\u001b[0;34m=\u001b[0m\u001b[0;36m1\u001b[0m\u001b[0;34m)\u001b[0m\u001b[0;34m\u001b[0m\u001b[0;34m\u001b[0m\u001b[0m\n",
      "\u001b[0;31mNameError\u001b[0m: name 'dataFrame1' is not defined"
     ]
    }
   ],
   "source": [
    "maas = dataFrame1.maas\n",
    "age = dataFrame1.age\n",
    "\n",
    "data_h_concat = pd.concat([maas,age],axis=1)"
   ]
  },
  {
   "cell_type": "code",
   "execution_count": 10,
   "metadata": {
    "execution": {
     "iopub.execute_input": "2020-10-31T19:27:48.389022Z",
     "iopub.status.busy": "2020-10-31T19:27:48.387949Z",
     "iopub.status.idle": "2020-10-31T19:27:48.391430Z",
     "shell.execute_reply": "2020-10-31T19:27:48.390432Z"
    },
    "papermill": {
     "duration": 0.025214,
     "end_time": "2020-10-31T19:27:48.391605",
     "exception": false,
     "start_time": "2020-10-31T19:27:48.366391",
     "status": "completed"
    },
    "tags": []
   },
   "outputs": [],
   "source": [
    "def multiply(age):\n",
    "    return age*2\n",
    "df[\"apply_metodu\"] = df.AGE.apply(multiply)"
   ]
  }
 ],
 "metadata": {
  "kernelspec": {
   "display_name": "Python 3",
   "language": "python",
   "name": "python3"
  },
  "language_info": {
   "codemirror_mode": {
    "name": "ipython",
    "version": 3
   },
   "file_extension": ".py",
   "mimetype": "text/x-python",
   "name": "python",
   "nbconvert_exporter": "python",
   "pygments_lexer": "ipython3",
   "version": "3.7.6"
  },
  "papermill": {
   "duration": 6.091905,
   "end_time": "2020-10-31T19:27:48.516903",
   "environment_variables": {},
   "exception": null,
   "input_path": "__notebook__.ipynb",
   "output_path": "__notebook__.ipynb",
   "parameters": {},
   "start_time": "2020-10-31T19:27:42.424998",
   "version": "2.1.0"
  }
 },
 "nbformat": 4,
 "nbformat_minor": 4
}
